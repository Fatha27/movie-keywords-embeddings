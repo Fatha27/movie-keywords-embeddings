{
 "cells": [
  {
   "cell_type": "markdown",
   "metadata": {},
   "source": [
    "# Movie Rating Prediction Model\n",
    "\n",
    "## Goal\n",
    "- The purpose of this notebook is to build a predictive model for movie ratings based on various features such as keywords, genres, director, and average user ratings. \n",
    "- The model predicts how a particular user will rate a movie on a scale of 0 - 5.0, given their past rating history.\n",
    "- Utilizing embeddings to encode high cardinality categorical features like keywords(1932 unique keywords) to improve model performance, instead of traditional encoding methods like label-encoding or one-hot encoding which has its flaws in our context.\n",
    "\n",
    "## Scope\n",
    "- **Personalized Movie Recommendations**: The model can be extended to create a recommendation system that suggests movies to users based on their predicted ratings. \n",
    "- By identifying movies that a user is likely to rate highly, the system can provide tailored suggestions, enhancing user experience on platforms like streaming services.\n",
    "\n",
    "## Data\n",
    "- Contains movie rating data logged by me on *Letterboxd* \n",
    "- Gathered more features from tmdb api using the unique movie id.\n",
    "\n",
    "## Sections\n",
    "1. Data preprocessing\n",
    "2. Model Preparation:\n",
    "    - Define a neural network using embedding layers for categorical data.\n",
    "3. Model Training\n",
    "4. Model Evaluation\n",
    "5. Predicting rating by a user from a different movie sample.\n",
    "\n"
   ]
  },
  {
   "cell_type": "code",
   "execution_count": 5,
   "metadata": {},
   "outputs": [],
   "source": [
    "import numpy as np\n",
    "import pandas as pd\n",
    "from matplotlib import pyplot as plt\n",
    "import tensorflow as tf\n",
    "import keras\n",
    "from keras import layers\n",
    "import random"
   ]
  },
  {
   "cell_type": "code",
   "execution_count": 6,
   "metadata": {},
   "outputs": [],
   "source": [
    "# Set the random seeds for reproducibility\n",
    "seed_value = 42 \n",
    "np.random.seed(seed_value)\n",
    "tf.random.set_seed(seed_value)\n",
    "random.seed(seed_value)"
   ]
  },
  {
   "cell_type": "code",
   "execution_count": 7,
   "metadata": {},
   "outputs": [
    {
     "name": "stdout",
     "output_type": "stream",
     "text": [
      "3.5.0\n"
     ]
    }
   ],
   "source": [
    "print(keras.__version__)"
   ]
  },
  {
   "cell_type": "code",
   "execution_count": 8,
   "metadata": {},
   "outputs": [],
   "source": [
    "df=pd.read_pickle(\"dataframe_keywords.pkl\")"
   ]
  },
  {
   "cell_type": "code",
   "execution_count": 9,
   "metadata": {},
   "outputs": [
    {
     "data": {
      "text/html": [
       "<div>\n",
       "<style scoped>\n",
       "    .dataframe tbody tr th:only-of-type {\n",
       "        vertical-align: middle;\n",
       "    }\n",
       "\n",
       "    .dataframe tbody tr th {\n",
       "        vertical-align: top;\n",
       "    }\n",
       "\n",
       "    .dataframe thead th {\n",
       "        text-align: right;\n",
       "    }\n",
       "</style>\n",
       "<table border=\"1\" class=\"dataframe\">\n",
       "  <thead>\n",
       "    <tr style=\"text-align: right;\">\n",
       "      <th></th>\n",
       "      <th>Date_logged</th>\n",
       "      <th>movie_id</th>\n",
       "      <th>Name</th>\n",
       "      <th>Year</th>\n",
       "      <th>overview</th>\n",
       "      <th>genres</th>\n",
       "      <th>keywords</th>\n",
       "      <th>actors</th>\n",
       "      <th>director</th>\n",
       "      <th>average_rating</th>\n",
       "      <th>vote_count</th>\n",
       "      <th>popularity</th>\n",
       "      <th>rating_given</th>\n",
       "    </tr>\n",
       "  </thead>\n",
       "  <tbody>\n",
       "    <tr>\n",
       "      <th>0</th>\n",
       "      <td>2021-10-02</td>\n",
       "      <td>278</td>\n",
       "      <td>The Shawshank Redemption</td>\n",
       "      <td>1994</td>\n",
       "      <td>Imprisoned in the 1940s for the double murder ...</td>\n",
       "      <td>Drama, Crime</td>\n",
       "      <td>prison, friendship, police brutality, corrupti...</td>\n",
       "      <td>Tim Robbins, Morgan Freeman, Bob Gunton, Willi...</td>\n",
       "      <td>Frank Darabont</td>\n",
       "      <td>8.706</td>\n",
       "      <td>26839</td>\n",
       "      <td>150.307</td>\n",
       "      <td>5.0</td>\n",
       "    </tr>\n",
       "    <tr>\n",
       "      <th>1</th>\n",
       "      <td>2021-10-02</td>\n",
       "      <td>489</td>\n",
       "      <td>Good Will Hunting</td>\n",
       "      <td>1997</td>\n",
       "      <td>When professors discover that an aimless janit...</td>\n",
       "      <td>Drama</td>\n",
       "      <td>boston, massachusetts, professor, baseball, ma...</td>\n",
       "      <td>Matt Damon, Robin Williams, Ben Affleck, Stell...</td>\n",
       "      <td>Gus Van Sant</td>\n",
       "      <td>8.158</td>\n",
       "      <td>12188</td>\n",
       "      <td>72.632</td>\n",
       "      <td>5.0</td>\n",
       "    </tr>\n",
       "  </tbody>\n",
       "</table>\n",
       "</div>"
      ],
      "text/plain": [
       "  Date_logged  movie_id                      Name  Year  \\\n",
       "0  2021-10-02       278  The Shawshank Redemption  1994   \n",
       "1  2021-10-02       489         Good Will Hunting  1997   \n",
       "\n",
       "                                            overview        genres  \\\n",
       "0  Imprisoned in the 1940s for the double murder ...  Drama, Crime   \n",
       "1  When professors discover that an aimless janit...         Drama   \n",
       "\n",
       "                                            keywords  \\\n",
       "0  prison, friendship, police brutality, corrupti...   \n",
       "1  boston, massachusetts, professor, baseball, ma...   \n",
       "\n",
       "                                              actors        director  \\\n",
       "0  Tim Robbins, Morgan Freeman, Bob Gunton, Willi...  Frank Darabont   \n",
       "1  Matt Damon, Robin Williams, Ben Affleck, Stell...    Gus Van Sant   \n",
       "\n",
       "   average_rating  vote_count  popularity  rating_given  \n",
       "0           8.706       26839     150.307           5.0  \n",
       "1           8.158       12188      72.632           5.0  "
      ]
     },
     "execution_count": 9,
     "metadata": {},
     "output_type": "execute_result"
    }
   ],
   "source": [
    "df.head(2)"
   ]
  },
  {
   "cell_type": "markdown",
   "metadata": {},
   "source": [
    "For our task, we will focus on the following features for training the model, as they are the most influential in determining movie ratings by a user:\n",
    "\n",
    "- Keywords \n",
    "- Genres \n",
    "- Average rating (audience)"
   ]
  },
  {
   "cell_type": "code",
   "execution_count": 10,
   "metadata": {},
   "outputs": [],
   "source": [
    "df=df[[\"movie_id\",\"Name\",\"keywords\",\"genres\",\"average_rating\",\"rating_given\"]]"
   ]
  },
  {
   "cell_type": "code",
   "execution_count": 11,
   "metadata": {},
   "outputs": [
    {
     "data": {
      "text/html": [
       "<div>\n",
       "<style scoped>\n",
       "    .dataframe tbody tr th:only-of-type {\n",
       "        vertical-align: middle;\n",
       "    }\n",
       "\n",
       "    .dataframe tbody tr th {\n",
       "        vertical-align: top;\n",
       "    }\n",
       "\n",
       "    .dataframe thead th {\n",
       "        text-align: right;\n",
       "    }\n",
       "</style>\n",
       "<table border=\"1\" class=\"dataframe\">\n",
       "  <thead>\n",
       "    <tr style=\"text-align: right;\">\n",
       "      <th></th>\n",
       "      <th>movie_id</th>\n",
       "      <th>Name</th>\n",
       "      <th>keywords</th>\n",
       "      <th>genres</th>\n",
       "      <th>average_rating</th>\n",
       "      <th>rating_given</th>\n",
       "    </tr>\n",
       "  </thead>\n",
       "  <tbody>\n",
       "    <tr>\n",
       "      <th>0</th>\n",
       "      <td>278</td>\n",
       "      <td>The Shawshank Redemption</td>\n",
       "      <td>prison, friendship, police brutality, corrupti...</td>\n",
       "      <td>Drama, Crime</td>\n",
       "      <td>8.706</td>\n",
       "      <td>5.0</td>\n",
       "    </tr>\n",
       "    <tr>\n",
       "      <th>1</th>\n",
       "      <td>489</td>\n",
       "      <td>Good Will Hunting</td>\n",
       "      <td>boston, massachusetts, professor, baseball, ma...</td>\n",
       "      <td>Drama</td>\n",
       "      <td>8.158</td>\n",
       "      <td>5.0</td>\n",
       "    </tr>\n",
       "  </tbody>\n",
       "</table>\n",
       "</div>"
      ],
      "text/plain": [
       "   movie_id                      Name  \\\n",
       "0       278  The Shawshank Redemption   \n",
       "1       489         Good Will Hunting   \n",
       "\n",
       "                                            keywords        genres  \\\n",
       "0  prison, friendship, police brutality, corrupti...  Drama, Crime   \n",
       "1  boston, massachusetts, professor, baseball, ma...         Drama   \n",
       "\n",
       "   average_rating  rating_given  \n",
       "0           8.706           5.0  \n",
       "1           8.158           5.0  "
      ]
     },
     "execution_count": 11,
     "metadata": {},
     "output_type": "execute_result"
    }
   ],
   "source": [
    "df.head(2)"
   ]
  },
  {
   "cell_type": "code",
   "execution_count": 12,
   "metadata": {},
   "outputs": [],
   "source": [
    "# Convert keywords from a string to a list (if they are stored as comma-separated strings)\n",
    "df['keywords'] = df['keywords'].apply(lambda x: x.split(', '))\n",
    "df['genres'] = df['genres'].apply(lambda x: x.split(', '))"
   ]
  },
  {
   "cell_type": "code",
   "execution_count": 13,
   "metadata": {},
   "outputs": [
    {
     "data": {
      "text/html": [
       "<div>\n",
       "<style scoped>\n",
       "    .dataframe tbody tr th:only-of-type {\n",
       "        vertical-align: middle;\n",
       "    }\n",
       "\n",
       "    .dataframe tbody tr th {\n",
       "        vertical-align: top;\n",
       "    }\n",
       "\n",
       "    .dataframe thead th {\n",
       "        text-align: right;\n",
       "    }\n",
       "</style>\n",
       "<table border=\"1\" class=\"dataframe\">\n",
       "  <thead>\n",
       "    <tr style=\"text-align: right;\">\n",
       "      <th></th>\n",
       "      <th>movie_id</th>\n",
       "      <th>Name</th>\n",
       "      <th>keywords</th>\n",
       "      <th>genres</th>\n",
       "      <th>average_rating</th>\n",
       "      <th>rating_given</th>\n",
       "    </tr>\n",
       "  </thead>\n",
       "  <tbody>\n",
       "    <tr>\n",
       "      <th>0</th>\n",
       "      <td>278</td>\n",
       "      <td>The Shawshank Redemption</td>\n",
       "      <td>[prison, friendship, police brutality, corrupt...</td>\n",
       "      <td>[Drama, Crime]</td>\n",
       "      <td>8.706</td>\n",
       "      <td>5.0</td>\n",
       "    </tr>\n",
       "    <tr>\n",
       "      <th>1</th>\n",
       "      <td>489</td>\n",
       "      <td>Good Will Hunting</td>\n",
       "      <td>[boston, massachusetts, professor, baseball, m...</td>\n",
       "      <td>[Drama]</td>\n",
       "      <td>8.158</td>\n",
       "      <td>5.0</td>\n",
       "    </tr>\n",
       "  </tbody>\n",
       "</table>\n",
       "</div>"
      ],
      "text/plain": [
       "   movie_id                      Name  \\\n",
       "0       278  The Shawshank Redemption   \n",
       "1       489         Good Will Hunting   \n",
       "\n",
       "                                            keywords          genres  \\\n",
       "0  [prison, friendship, police brutality, corrupt...  [Drama, Crime]   \n",
       "1  [boston, massachusetts, professor, baseball, m...         [Drama]   \n",
       "\n",
       "   average_rating  rating_given  \n",
       "0           8.706           5.0  \n",
       "1           8.158           5.0  "
      ]
     },
     "execution_count": 13,
     "metadata": {},
     "output_type": "execute_result"
    }
   ],
   "source": [
    "df.head(2)"
   ]
  },
  {
   "cell_type": "code",
   "execution_count": 14,
   "metadata": {},
   "outputs": [],
   "source": [
    "from sklearn.preprocessing import LabelEncoder\n",
    "\n",
    "# Flatten the list of all keywords and genres across the dataset\n",
    "all_keywords = [keyword for keywords_list in df['keywords'] for keyword in keywords_list]\n",
    "all_genres = [genre for genre_list in df['genres'] for genre in genre_list]\n",
    "\n",
    "# Create separate LabelEncoders for keywords and genres\n",
    "le_keywords = LabelEncoder()\n",
    "le_genres = LabelEncoder()\n",
    "\n",
    "# Fit the LabelEncoders on the unique keywords and genres\n",
    "le_keywords.fit(all_keywords)\n",
    "le_genres.fit(all_genres)\n",
    "\n",
    "\n",
    "# Now encode each keyword list and genre list into integer IDs\n",
    "df['keywords_encoded'] = df['keywords'].apply(lambda keywords: le_keywords.transform(keywords))\n",
    "df['genres_encoded'] = df['genres'].apply(lambda genres: le_genres.transform(genres))\n"
   ]
  },
  {
   "cell_type": "code",
   "execution_count": 15,
   "metadata": {},
   "outputs": [
    {
     "data": {
      "text/html": [
       "<div>\n",
       "<style scoped>\n",
       "    .dataframe tbody tr th:only-of-type {\n",
       "        vertical-align: middle;\n",
       "    }\n",
       "\n",
       "    .dataframe tbody tr th {\n",
       "        vertical-align: top;\n",
       "    }\n",
       "\n",
       "    .dataframe thead th {\n",
       "        text-align: right;\n",
       "    }\n",
       "</style>\n",
       "<table border=\"1\" class=\"dataframe\">\n",
       "  <thead>\n",
       "    <tr style=\"text-align: right;\">\n",
       "      <th></th>\n",
       "      <th>movie_id</th>\n",
       "      <th>Name</th>\n",
       "      <th>keywords</th>\n",
       "      <th>genres</th>\n",
       "      <th>average_rating</th>\n",
       "      <th>rating_given</th>\n",
       "      <th>keywords_encoded</th>\n",
       "      <th>genres_encoded</th>\n",
       "    </tr>\n",
       "  </thead>\n",
       "  <tbody>\n",
       "    <tr>\n",
       "      <th>207</th>\n",
       "      <td>840430</td>\n",
       "      <td>The Holdovers</td>\n",
       "      <td>[vietnam war, winter, boarding school, holiday...</td>\n",
       "      <td>[Comedy, Drama]</td>\n",
       "      <td>7.714</td>\n",
       "      <td>4.5</td>\n",
       "      <td>[1838, 1892, 228, 833, 236, 1057, 11, 38, 52, ...</td>\n",
       "      <td>[3, 6]</td>\n",
       "    </tr>\n",
       "    <tr>\n",
       "      <th>208</th>\n",
       "      <td>1581</td>\n",
       "      <td>The Holiday</td>\n",
       "      <td>[london, england, movie business, christmas pa...</td>\n",
       "      <td>[Comedy, Romance]</td>\n",
       "      <td>7.093</td>\n",
       "      <td>2.5</td>\n",
       "      <td>[987, 577, 1138, 344, 409, 1821, 1673, 991, 27...</td>\n",
       "      <td>[3, 13]</td>\n",
       "    </tr>\n",
       "    <tr>\n",
       "      <th>209</th>\n",
       "      <td>6977</td>\n",
       "      <td>No Country for Old Men</td>\n",
       "      <td>[vietnam veteran, sheriff, trailer park, based...</td>\n",
       "      <td>[Crime, Drama, Thriller]</td>\n",
       "      <td>7.945</td>\n",
       "      <td>4.0</td>\n",
       "      <td>[1837, 1533, 1770, 172, 830, 1352, 540, 1730, ...</td>\n",
       "      <td>[4, 6, 15]</td>\n",
       "    </tr>\n",
       "    <tr>\n",
       "      <th>210</th>\n",
       "      <td>792307</td>\n",
       "      <td>Poor Things</td>\n",
       "      <td>[ship, london, england, experiment, paris, fra...</td>\n",
       "      <td>[Science Fiction, Romance, Comedy]</td>\n",
       "      <td>7.763</td>\n",
       "      <td>4.0</td>\n",
       "      <td>[1539, 987, 577, 605, 1250, 704, 172, 1205, 98...</td>\n",
       "      <td>[14, 13, 3]</td>\n",
       "    </tr>\n",
       "    <tr>\n",
       "      <th>211</th>\n",
       "      <td>693134</td>\n",
       "      <td>Dune: Part Two</td>\n",
       "      <td>[epic, based on novel or book, fight, politics...</td>\n",
       "      <td>[Science Fiction, Adventure]</td>\n",
       "      <td>8.165</td>\n",
       "      <td>5.0</td>\n",
       "      <td>[581, 172, 669, 1303, 1455, 1453, 1605, 342, 4...</td>\n",
       "      <td>[14, 1]</td>\n",
       "    </tr>\n",
       "  </tbody>\n",
       "</table>\n",
       "</div>"
      ],
      "text/plain": [
       "     movie_id                    Name  \\\n",
       "207    840430           The Holdovers   \n",
       "208      1581             The Holiday   \n",
       "209      6977  No Country for Old Men   \n",
       "210    792307             Poor Things   \n",
       "211    693134          Dune: Part Two   \n",
       "\n",
       "                                              keywords  \\\n",
       "207  [vietnam war, winter, boarding school, holiday...   \n",
       "208  [london, england, movie business, christmas pa...   \n",
       "209  [vietnam veteran, sheriff, trailer park, based...   \n",
       "210  [ship, london, england, experiment, paris, fra...   \n",
       "211  [epic, based on novel or book, fight, politics...   \n",
       "\n",
       "                                 genres  average_rating  rating_given  \\\n",
       "207                     [Comedy, Drama]           7.714           4.5   \n",
       "208                   [Comedy, Romance]           7.093           2.5   \n",
       "209            [Crime, Drama, Thriller]           7.945           4.0   \n",
       "210  [Science Fiction, Romance, Comedy]           7.763           4.0   \n",
       "211        [Science Fiction, Adventure]           8.165           5.0   \n",
       "\n",
       "                                      keywords_encoded genres_encoded  \n",
       "207  [1838, 1892, 228, 833, 236, 1057, 11, 38, 52, ...         [3, 6]  \n",
       "208  [987, 577, 1138, 344, 409, 1821, 1673, 991, 27...        [3, 13]  \n",
       "209  [1837, 1533, 1770, 172, 830, 1352, 540, 1730, ...     [4, 6, 15]  \n",
       "210  [1539, 987, 577, 605, 1250, 704, 172, 1205, 98...    [14, 13, 3]  \n",
       "211  [581, 172, 669, 1303, 1455, 1453, 1605, 342, 4...        [14, 1]  "
      ]
     },
     "execution_count": 15,
     "metadata": {},
     "output_type": "execute_result"
    }
   ],
   "source": [
    "df.tail(5)"
   ]
  },
  {
   "cell_type": "code",
   "execution_count": 16,
   "metadata": {},
   "outputs": [],
   "source": [
    "from keras_preprocessing.sequence import pad_sequences\n",
    "\n",
    "MAX_KEYWORDS = 20\n",
    "MAX_GENRES = 3\n",
    "\n",
    "# Pad the sequences (post-padding will add zeros after shorter sequences)\n",
    "X_keywords_padded = np.array(pad_sequences(df['keywords_encoded'], maxlen=MAX_KEYWORDS, padding='post'))\n",
    "X_genres_padded = np.array(pad_sequences(df['genres_encoded'], maxlen=MAX_GENRES, padding='post'))\n"
   ]
  },
  {
   "cell_type": "code",
   "execution_count": 17,
   "metadata": {},
   "outputs": [
    {
     "name": "stdout",
     "output_type": "stream",
     "text": [
      "<class 'pandas.core.frame.DataFrame'>\n",
      "Int64Index: 212 entries, 0 to 211\n",
      "Data columns (total 8 columns):\n",
      " #   Column            Non-Null Count  Dtype  \n",
      "---  ------            --------------  -----  \n",
      " 0   movie_id          212 non-null    int64  \n",
      " 1   Name              212 non-null    object \n",
      " 2   keywords          212 non-null    object \n",
      " 3   genres            212 non-null    object \n",
      " 4   average_rating    212 non-null    float64\n",
      " 5   rating_given      212 non-null    float64\n",
      " 6   keywords_encoded  212 non-null    object \n",
      " 7   genres_encoded    212 non-null    object \n",
      "dtypes: float64(2), int64(1), object(5)\n",
      "memory usage: 14.9+ KB\n"
     ]
    }
   ],
   "source": [
    "df.info()"
   ]
  },
  {
   "cell_type": "code",
   "execution_count": 18,
   "metadata": {},
   "outputs": [
    {
     "data": {
      "text/plain": [
       "1932"
      ]
     },
     "execution_count": 18,
     "metadata": {},
     "output_type": "execute_result"
    }
   ],
   "source": [
    "df.explode(\"keywords\")[\"keywords\"].nunique()"
   ]
  },
  {
   "cell_type": "code",
   "execution_count": 19,
   "metadata": {},
   "outputs": [
    {
     "name": "stderr",
     "output_type": "stream",
     "text": [
      "c:\\Python310\\lib\\site-packages\\keras\\src\\layers\\core\\embedding.py:90: UserWarning: Argument `input_length` is deprecated. Just remove it.\n",
      "  warnings.warn(\n"
     ]
    }
   ],
   "source": [
    "from sklearn.metrics import mean_absolute_error\n",
    "\n",
    "y_rating = np.array(df['rating_given'], dtype=np.float32)\n",
    "\n",
    "# Step 1: Define the model\n",
    "# Input for keywords\n",
    "keyword_input = keras.Input(shape=(20,), name='keywords_input')  # Shape matches padded keywords\n",
    "keywords_embedded = keras.layers.Embedding(input_dim=1932, output_dim=16, input_length=20)(keyword_input)\n",
    "\n",
    "# Input for genres\n",
    "genre_input = keras.Input(shape=(3,), name='genres_input')  # Shape matches padded genres\n",
    "genres_embedded = keras.layers.Embedding(input_dim=18, output_dim=16, input_length=3)(genre_input)\n",
    "\n",
    "\n",
    "# Flatten both embeddings\n",
    "keywords_flattened = keras.layers.Flatten()(keywords_embedded)\n",
    "genres_flattened = keras.layers.Flatten()(genres_embedded)\n",
    "\n",
    "# Input for average_rating (numerical feature)\n",
    "avg_rating_input = keras.Input(shape=(1,), name='avg_rating_input')\n",
    "\n",
    "# Concatenate embeddings from keywords and genres\n",
    "combined = keras.layers.Concatenate()([keywords_flattened, genres_flattened, avg_rating_input])\n",
    "\n",
    "# Add a Dense layer after concatenation\n",
    "out = keras.layers.Dense(32, activation='relu')(combined)\n",
    "out = keras.layers.Dense(16, activation='relu')(out)\n",
    "\n",
    "# Add hidden layers (using loop for flexibility)\n",
    "hidden_units = (32, 16)\n",
    "for n_hidden in hidden_units:\n",
    "    out = keras.layers.Dense(n_hidden, activation='relu')(out)\n",
    "\n",
    "# Output layer: predicted rating\n",
    "output = keras.layers.Dense(1, activation='linear', name='prediction')(out)"
   ]
  },
  {
   "cell_type": "code",
   "execution_count": 20,
   "metadata": {},
   "outputs": [],
   "source": [
    "model = keras.Model(inputs=[keyword_input,genre_input,avg_rating_input], outputs=output)\n",
    "model.compile(optimizer='adam', loss='mse', metrics=['mean_absolute_error'])"
   ]
  },
  {
   "cell_type": "code",
   "execution_count": 21,
   "metadata": {},
   "outputs": [
    {
     "data": {
      "text/html": [
       "<pre style=\"white-space:pre;overflow-x:auto;line-height:normal;font-family:Menlo,'DejaVu Sans Mono',consolas,'Courier New',monospace\"><span style=\"font-weight: bold\">Model: \"functional\"</span>\n",
       "</pre>\n"
      ],
      "text/plain": [
       "\u001b[1mModel: \"functional\"\u001b[0m\n"
      ]
     },
     "metadata": {},
     "output_type": "display_data"
    },
    {
     "data": {
      "text/html": [
       "<pre style=\"white-space:pre;overflow-x:auto;line-height:normal;font-family:Menlo,'DejaVu Sans Mono',consolas,'Courier New',monospace\">┏━━━━━━━━━━━━━━━━━━━━━┳━━━━━━━━━━━━━━━━━━━┳━━━━━━━━━━━━┳━━━━━━━━━━━━━━━━━━━┓\n",
       "┃<span style=\"font-weight: bold\"> Layer (type)        </span>┃<span style=\"font-weight: bold\"> Output Shape      </span>┃<span style=\"font-weight: bold\">    Param # </span>┃<span style=\"font-weight: bold\"> Connected to      </span>┃\n",
       "┡━━━━━━━━━━━━━━━━━━━━━╇━━━━━━━━━━━━━━━━━━━╇━━━━━━━━━━━━╇━━━━━━━━━━━━━━━━━━━┩\n",
       "│ keywords_input      │ (<span style=\"color: #00d7ff; text-decoration-color: #00d7ff\">None</span>, <span style=\"color: #00af00; text-decoration-color: #00af00\">20</span>)        │          <span style=\"color: #00af00; text-decoration-color: #00af00\">0</span> │ -                 │\n",
       "│ (<span style=\"color: #0087ff; text-decoration-color: #0087ff\">InputLayer</span>)        │                   │            │                   │\n",
       "├─────────────────────┼───────────────────┼────────────┼───────────────────┤\n",
       "│ genres_input        │ (<span style=\"color: #00d7ff; text-decoration-color: #00d7ff\">None</span>, <span style=\"color: #00af00; text-decoration-color: #00af00\">3</span>)         │          <span style=\"color: #00af00; text-decoration-color: #00af00\">0</span> │ -                 │\n",
       "│ (<span style=\"color: #0087ff; text-decoration-color: #0087ff\">InputLayer</span>)        │                   │            │                   │\n",
       "├─────────────────────┼───────────────────┼────────────┼───────────────────┤\n",
       "│ embedding           │ (<span style=\"color: #00d7ff; text-decoration-color: #00d7ff\">None</span>, <span style=\"color: #00af00; text-decoration-color: #00af00\">20</span>, <span style=\"color: #00af00; text-decoration-color: #00af00\">16</span>)    │     <span style=\"color: #00af00; text-decoration-color: #00af00\">30,912</span> │ keywords_input[<span style=\"color: #00af00; text-decoration-color: #00af00\">0</span>… │\n",
       "│ (<span style=\"color: #0087ff; text-decoration-color: #0087ff\">Embedding</span>)         │                   │            │                   │\n",
       "├─────────────────────┼───────────────────┼────────────┼───────────────────┤\n",
       "│ embedding_1         │ (<span style=\"color: #00d7ff; text-decoration-color: #00d7ff\">None</span>, <span style=\"color: #00af00; text-decoration-color: #00af00\">3</span>, <span style=\"color: #00af00; text-decoration-color: #00af00\">16</span>)     │        <span style=\"color: #00af00; text-decoration-color: #00af00\">288</span> │ genres_input[<span style=\"color: #00af00; text-decoration-color: #00af00\">0</span>][<span style=\"color: #00af00; text-decoration-color: #00af00\">…</span> │\n",
       "│ (<span style=\"color: #0087ff; text-decoration-color: #0087ff\">Embedding</span>)         │                   │            │                   │\n",
       "├─────────────────────┼───────────────────┼────────────┼───────────────────┤\n",
       "│ flatten (<span style=\"color: #0087ff; text-decoration-color: #0087ff\">Flatten</span>)   │ (<span style=\"color: #00d7ff; text-decoration-color: #00d7ff\">None</span>, <span style=\"color: #00af00; text-decoration-color: #00af00\">320</span>)       │          <span style=\"color: #00af00; text-decoration-color: #00af00\">0</span> │ embedding[<span style=\"color: #00af00; text-decoration-color: #00af00\">0</span>][<span style=\"color: #00af00; text-decoration-color: #00af00\">0</span>]   │\n",
       "├─────────────────────┼───────────────────┼────────────┼───────────────────┤\n",
       "│ flatten_1 (<span style=\"color: #0087ff; text-decoration-color: #0087ff\">Flatten</span>) │ (<span style=\"color: #00d7ff; text-decoration-color: #00d7ff\">None</span>, <span style=\"color: #00af00; text-decoration-color: #00af00\">48</span>)        │          <span style=\"color: #00af00; text-decoration-color: #00af00\">0</span> │ embedding_1[<span style=\"color: #00af00; text-decoration-color: #00af00\">0</span>][<span style=\"color: #00af00; text-decoration-color: #00af00\">0</span>] │\n",
       "├─────────────────────┼───────────────────┼────────────┼───────────────────┤\n",
       "│ avg_rating_input    │ (<span style=\"color: #00d7ff; text-decoration-color: #00d7ff\">None</span>, <span style=\"color: #00af00; text-decoration-color: #00af00\">1</span>)         │          <span style=\"color: #00af00; text-decoration-color: #00af00\">0</span> │ -                 │\n",
       "│ (<span style=\"color: #0087ff; text-decoration-color: #0087ff\">InputLayer</span>)        │                   │            │                   │\n",
       "├─────────────────────┼───────────────────┼────────────┼───────────────────┤\n",
       "│ concatenate         │ (<span style=\"color: #00d7ff; text-decoration-color: #00d7ff\">None</span>, <span style=\"color: #00af00; text-decoration-color: #00af00\">369</span>)       │          <span style=\"color: #00af00; text-decoration-color: #00af00\">0</span> │ flatten[<span style=\"color: #00af00; text-decoration-color: #00af00\">0</span>][<span style=\"color: #00af00; text-decoration-color: #00af00\">0</span>],    │\n",
       "│ (<span style=\"color: #0087ff; text-decoration-color: #0087ff\">Concatenate</span>)       │                   │            │ flatten_1[<span style=\"color: #00af00; text-decoration-color: #00af00\">0</span>][<span style=\"color: #00af00; text-decoration-color: #00af00\">0</span>],  │\n",
       "│                     │                   │            │ avg_rating_input… │\n",
       "├─────────────────────┼───────────────────┼────────────┼───────────────────┤\n",
       "│ dense (<span style=\"color: #0087ff; text-decoration-color: #0087ff\">Dense</span>)       │ (<span style=\"color: #00d7ff; text-decoration-color: #00d7ff\">None</span>, <span style=\"color: #00af00; text-decoration-color: #00af00\">32</span>)        │     <span style=\"color: #00af00; text-decoration-color: #00af00\">11,840</span> │ concatenate[<span style=\"color: #00af00; text-decoration-color: #00af00\">0</span>][<span style=\"color: #00af00; text-decoration-color: #00af00\">0</span>] │\n",
       "├─────────────────────┼───────────────────┼────────────┼───────────────────┤\n",
       "│ dense_1 (<span style=\"color: #0087ff; text-decoration-color: #0087ff\">Dense</span>)     │ (<span style=\"color: #00d7ff; text-decoration-color: #00d7ff\">None</span>, <span style=\"color: #00af00; text-decoration-color: #00af00\">16</span>)        │        <span style=\"color: #00af00; text-decoration-color: #00af00\">528</span> │ dense[<span style=\"color: #00af00; text-decoration-color: #00af00\">0</span>][<span style=\"color: #00af00; text-decoration-color: #00af00\">0</span>]       │\n",
       "├─────────────────────┼───────────────────┼────────────┼───────────────────┤\n",
       "│ dense_2 (<span style=\"color: #0087ff; text-decoration-color: #0087ff\">Dense</span>)     │ (<span style=\"color: #00d7ff; text-decoration-color: #00d7ff\">None</span>, <span style=\"color: #00af00; text-decoration-color: #00af00\">32</span>)        │        <span style=\"color: #00af00; text-decoration-color: #00af00\">544</span> │ dense_1[<span style=\"color: #00af00; text-decoration-color: #00af00\">0</span>][<span style=\"color: #00af00; text-decoration-color: #00af00\">0</span>]     │\n",
       "├─────────────────────┼───────────────────┼────────────┼───────────────────┤\n",
       "│ dense_3 (<span style=\"color: #0087ff; text-decoration-color: #0087ff\">Dense</span>)     │ (<span style=\"color: #00d7ff; text-decoration-color: #00d7ff\">None</span>, <span style=\"color: #00af00; text-decoration-color: #00af00\">16</span>)        │        <span style=\"color: #00af00; text-decoration-color: #00af00\">528</span> │ dense_2[<span style=\"color: #00af00; text-decoration-color: #00af00\">0</span>][<span style=\"color: #00af00; text-decoration-color: #00af00\">0</span>]     │\n",
       "├─────────────────────┼───────────────────┼────────────┼───────────────────┤\n",
       "│ prediction (<span style=\"color: #0087ff; text-decoration-color: #0087ff\">Dense</span>)  │ (<span style=\"color: #00d7ff; text-decoration-color: #00d7ff\">None</span>, <span style=\"color: #00af00; text-decoration-color: #00af00\">1</span>)         │         <span style=\"color: #00af00; text-decoration-color: #00af00\">17</span> │ dense_3[<span style=\"color: #00af00; text-decoration-color: #00af00\">0</span>][<span style=\"color: #00af00; text-decoration-color: #00af00\">0</span>]     │\n",
       "└─────────────────────┴───────────────────┴────────────┴───────────────────┘\n",
       "</pre>\n"
      ],
      "text/plain": [
       "┏━━━━━━━━━━━━━━━━━━━━━┳━━━━━━━━━━━━━━━━━━━┳━━━━━━━━━━━━┳━━━━━━━━━━━━━━━━━━━┓\n",
       "┃\u001b[1m \u001b[0m\u001b[1mLayer (type)       \u001b[0m\u001b[1m \u001b[0m┃\u001b[1m \u001b[0m\u001b[1mOutput Shape     \u001b[0m\u001b[1m \u001b[0m┃\u001b[1m \u001b[0m\u001b[1m   Param #\u001b[0m\u001b[1m \u001b[0m┃\u001b[1m \u001b[0m\u001b[1mConnected to     \u001b[0m\u001b[1m \u001b[0m┃\n",
       "┡━━━━━━━━━━━━━━━━━━━━━╇━━━━━━━━━━━━━━━━━━━╇━━━━━━━━━━━━╇━━━━━━━━━━━━━━━━━━━┩\n",
       "│ keywords_input      │ (\u001b[38;5;45mNone\u001b[0m, \u001b[38;5;34m20\u001b[0m)        │          \u001b[38;5;34m0\u001b[0m │ -                 │\n",
       "│ (\u001b[38;5;33mInputLayer\u001b[0m)        │                   │            │                   │\n",
       "├─────────────────────┼───────────────────┼────────────┼───────────────────┤\n",
       "│ genres_input        │ (\u001b[38;5;45mNone\u001b[0m, \u001b[38;5;34m3\u001b[0m)         │          \u001b[38;5;34m0\u001b[0m │ -                 │\n",
       "│ (\u001b[38;5;33mInputLayer\u001b[0m)        │                   │            │                   │\n",
       "├─────────────────────┼───────────────────┼────────────┼───────────────────┤\n",
       "│ embedding           │ (\u001b[38;5;45mNone\u001b[0m, \u001b[38;5;34m20\u001b[0m, \u001b[38;5;34m16\u001b[0m)    │     \u001b[38;5;34m30,912\u001b[0m │ keywords_input[\u001b[38;5;34m0\u001b[0m… │\n",
       "│ (\u001b[38;5;33mEmbedding\u001b[0m)         │                   │            │                   │\n",
       "├─────────────────────┼───────────────────┼────────────┼───────────────────┤\n",
       "│ embedding_1         │ (\u001b[38;5;45mNone\u001b[0m, \u001b[38;5;34m3\u001b[0m, \u001b[38;5;34m16\u001b[0m)     │        \u001b[38;5;34m288\u001b[0m │ genres_input[\u001b[38;5;34m0\u001b[0m][\u001b[38;5;34m…\u001b[0m │\n",
       "│ (\u001b[38;5;33mEmbedding\u001b[0m)         │                   │            │                   │\n",
       "├─────────────────────┼───────────────────┼────────────┼───────────────────┤\n",
       "│ flatten (\u001b[38;5;33mFlatten\u001b[0m)   │ (\u001b[38;5;45mNone\u001b[0m, \u001b[38;5;34m320\u001b[0m)       │          \u001b[38;5;34m0\u001b[0m │ embedding[\u001b[38;5;34m0\u001b[0m][\u001b[38;5;34m0\u001b[0m]   │\n",
       "├─────────────────────┼───────────────────┼────────────┼───────────────────┤\n",
       "│ flatten_1 (\u001b[38;5;33mFlatten\u001b[0m) │ (\u001b[38;5;45mNone\u001b[0m, \u001b[38;5;34m48\u001b[0m)        │          \u001b[38;5;34m0\u001b[0m │ embedding_1[\u001b[38;5;34m0\u001b[0m][\u001b[38;5;34m0\u001b[0m] │\n",
       "├─────────────────────┼───────────────────┼────────────┼───────────────────┤\n",
       "│ avg_rating_input    │ (\u001b[38;5;45mNone\u001b[0m, \u001b[38;5;34m1\u001b[0m)         │          \u001b[38;5;34m0\u001b[0m │ -                 │\n",
       "│ (\u001b[38;5;33mInputLayer\u001b[0m)        │                   │            │                   │\n",
       "├─────────────────────┼───────────────────┼────────────┼───────────────────┤\n",
       "│ concatenate         │ (\u001b[38;5;45mNone\u001b[0m, \u001b[38;5;34m369\u001b[0m)       │          \u001b[38;5;34m0\u001b[0m │ flatten[\u001b[38;5;34m0\u001b[0m][\u001b[38;5;34m0\u001b[0m],    │\n",
       "│ (\u001b[38;5;33mConcatenate\u001b[0m)       │                   │            │ flatten_1[\u001b[38;5;34m0\u001b[0m][\u001b[38;5;34m0\u001b[0m],  │\n",
       "│                     │                   │            │ avg_rating_input… │\n",
       "├─────────────────────┼───────────────────┼────────────┼───────────────────┤\n",
       "│ dense (\u001b[38;5;33mDense\u001b[0m)       │ (\u001b[38;5;45mNone\u001b[0m, \u001b[38;5;34m32\u001b[0m)        │     \u001b[38;5;34m11,840\u001b[0m │ concatenate[\u001b[38;5;34m0\u001b[0m][\u001b[38;5;34m0\u001b[0m] │\n",
       "├─────────────────────┼───────────────────┼────────────┼───────────────────┤\n",
       "│ dense_1 (\u001b[38;5;33mDense\u001b[0m)     │ (\u001b[38;5;45mNone\u001b[0m, \u001b[38;5;34m16\u001b[0m)        │        \u001b[38;5;34m528\u001b[0m │ dense[\u001b[38;5;34m0\u001b[0m][\u001b[38;5;34m0\u001b[0m]       │\n",
       "├─────────────────────┼───────────────────┼────────────┼───────────────────┤\n",
       "│ dense_2 (\u001b[38;5;33mDense\u001b[0m)     │ (\u001b[38;5;45mNone\u001b[0m, \u001b[38;5;34m32\u001b[0m)        │        \u001b[38;5;34m544\u001b[0m │ dense_1[\u001b[38;5;34m0\u001b[0m][\u001b[38;5;34m0\u001b[0m]     │\n",
       "├─────────────────────┼───────────────────┼────────────┼───────────────────┤\n",
       "│ dense_3 (\u001b[38;5;33mDense\u001b[0m)     │ (\u001b[38;5;45mNone\u001b[0m, \u001b[38;5;34m16\u001b[0m)        │        \u001b[38;5;34m528\u001b[0m │ dense_2[\u001b[38;5;34m0\u001b[0m][\u001b[38;5;34m0\u001b[0m]     │\n",
       "├─────────────────────┼───────────────────┼────────────┼───────────────────┤\n",
       "│ prediction (\u001b[38;5;33mDense\u001b[0m)  │ (\u001b[38;5;45mNone\u001b[0m, \u001b[38;5;34m1\u001b[0m)         │         \u001b[38;5;34m17\u001b[0m │ dense_3[\u001b[38;5;34m0\u001b[0m][\u001b[38;5;34m0\u001b[0m]     │\n",
       "└─────────────────────┴───────────────────┴────────────┴───────────────────┘\n"
      ]
     },
     "metadata": {},
     "output_type": "display_data"
    },
    {
     "data": {
      "text/html": [
       "<pre style=\"white-space:pre;overflow-x:auto;line-height:normal;font-family:Menlo,'DejaVu Sans Mono',consolas,'Courier New',monospace\"><span style=\"font-weight: bold\"> Total params: </span><span style=\"color: #00af00; text-decoration-color: #00af00\">44,657</span> (174.44 KB)\n",
       "</pre>\n"
      ],
      "text/plain": [
       "\u001b[1m Total params: \u001b[0m\u001b[38;5;34m44,657\u001b[0m (174.44 KB)\n"
      ]
     },
     "metadata": {},
     "output_type": "display_data"
    },
    {
     "data": {
      "text/html": [
       "<pre style=\"white-space:pre;overflow-x:auto;line-height:normal;font-family:Menlo,'DejaVu Sans Mono',consolas,'Courier New',monospace\"><span style=\"font-weight: bold\"> Trainable params: </span><span style=\"color: #00af00; text-decoration-color: #00af00\">44,657</span> (174.44 KB)\n",
       "</pre>\n"
      ],
      "text/plain": [
       "\u001b[1m Trainable params: \u001b[0m\u001b[38;5;34m44,657\u001b[0m (174.44 KB)\n"
      ]
     },
     "metadata": {},
     "output_type": "display_data"
    },
    {
     "data": {
      "text/html": [
       "<pre style=\"white-space:pre;overflow-x:auto;line-height:normal;font-family:Menlo,'DejaVu Sans Mono',consolas,'Courier New',monospace\"><span style=\"font-weight: bold\"> Non-trainable params: </span><span style=\"color: #00af00; text-decoration-color: #00af00\">0</span> (0.00 B)\n",
       "</pre>\n"
      ],
      "text/plain": [
       "\u001b[1m Non-trainable params: \u001b[0m\u001b[38;5;34m0\u001b[0m (0.00 B)\n"
      ]
     },
     "metadata": {},
     "output_type": "display_data"
    }
   ],
   "source": [
    "# Check the model summary\n",
    "model.summary()"
   ]
  },
  {
   "cell_type": "code",
   "execution_count": 22,
   "metadata": {},
   "outputs": [],
   "source": [
    "# Step 2: Split the dataset into training and validation sets\n",
    "from sklearn.model_selection import train_test_split\n",
    "\n",
    "# Assuming df contains the entire dataset (movies and ratings)\n",
    "df_train, df_val = train_test_split(df, test_size=0.1, random_state=seed_value)  # 90% train, 10% validation\n",
    "\n",
    "# Prepare validation data (use the same padding and conversion as for the training set)\n",
    "X_val_keywords_padded = pad_sequences(df_val['keywords_encoded'], maxlen=MAX_KEYWORDS, padding='post', truncating='post')\n",
    "X_val_genres_padded = pad_sequences(df_val['genres_encoded'], maxlen=MAX_GENRES, padding='post', truncating='post')\n",
    "\n",
    "X_val_avg_rating = np.array(df_val['average_rating'], dtype=np.int32)\n",
    "\n",
    "X_avg_rating= np.array(df['average_rating'], dtype=np.int32)\n",
    "y_val_rating = np.array(df_val['rating_given'], dtype=np.float32)\n"
   ]
  },
  {
   "cell_type": "code",
   "execution_count": 23,
   "metadata": {},
   "outputs": [
    {
     "name": "stdout",
     "output_type": "stream",
     "text": [
      "Epoch 1/30\n",
      "\u001b[1m27/27\u001b[0m \u001b[32m━━━━━━━━━━━━━━━━━━━━\u001b[0m\u001b[37m\u001b[0m \u001b[1m4s\u001b[0m 24ms/step - loss: 9.8417 - mean_absolute_error: 3.0258 - val_loss: 1.3113 - val_mean_absolute_error: 0.9620\n",
      "Epoch 2/30\n",
      "\u001b[1m27/27\u001b[0m \u001b[32m━━━━━━━━━━━━━━━━━━━━\u001b[0m\u001b[37m\u001b[0m \u001b[1m0s\u001b[0m 8ms/step - loss: 0.8749 - mean_absolute_error: 0.7552 - val_loss: 0.3007 - val_mean_absolute_error: 0.4589\n",
      "Epoch 3/30\n",
      "\u001b[1m27/27\u001b[0m \u001b[32m━━━━━━━━━━━━━━━━━━━━\u001b[0m\u001b[37m\u001b[0m \u001b[1m0s\u001b[0m 11ms/step - loss: 0.3570 - mean_absolute_error: 0.4809 - val_loss: 0.1891 - val_mean_absolute_error: 0.3449\n",
      "Epoch 4/30\n",
      "\u001b[1m27/27\u001b[0m \u001b[32m━━━━━━━━━━━━━━━━━━━━\u001b[0m\u001b[37m\u001b[0m \u001b[1m0s\u001b[0m 10ms/step - loss: 0.2494 - mean_absolute_error: 0.3880 - val_loss: 0.1204 - val_mean_absolute_error: 0.2639\n",
      "Epoch 5/30\n",
      "\u001b[1m27/27\u001b[0m \u001b[32m━━━━━━━━━━━━━━━━━━━━\u001b[0m\u001b[37m\u001b[0m \u001b[1m0s\u001b[0m 14ms/step - loss: 0.1753 - mean_absolute_error: 0.3169 - val_loss: 0.0820 - val_mean_absolute_error: 0.2051\n",
      "Epoch 6/30\n",
      "\u001b[1m27/27\u001b[0m \u001b[32m━━━━━━━━━━━━━━━━━━━━\u001b[0m\u001b[37m\u001b[0m \u001b[1m0s\u001b[0m 9ms/step - loss: 0.1071 - mean_absolute_error: 0.2407 - val_loss: 0.0618 - val_mean_absolute_error: 0.1656\n",
      "Epoch 7/30\n",
      "\u001b[1m27/27\u001b[0m \u001b[32m━━━━━━━━━━━━━━━━━━━━\u001b[0m\u001b[37m\u001b[0m \u001b[1m0s\u001b[0m 9ms/step - loss: 0.0552 - mean_absolute_error: 0.1607 - val_loss: 0.0548 - val_mean_absolute_error: 0.1361\n",
      "Epoch 8/30\n",
      "\u001b[1m27/27\u001b[0m \u001b[32m━━━━━━━━━━━━━━━━━━━━\u001b[0m\u001b[37m\u001b[0m \u001b[1m0s\u001b[0m 10ms/step - loss: 0.0267 - mean_absolute_error: 0.0944 - val_loss: 0.0532 - val_mean_absolute_error: 0.1187\n",
      "Epoch 9/30\n",
      "\u001b[1m27/27\u001b[0m \u001b[32m━━━━━━━━━━━━━━━━━━━━\u001b[0m\u001b[37m\u001b[0m \u001b[1m0s\u001b[0m 9ms/step - loss: 0.0145 - mean_absolute_error: 0.0649 - val_loss: 0.0534 - val_mean_absolute_error: 0.1206\n",
      "Epoch 10/30\n",
      "\u001b[1m27/27\u001b[0m \u001b[32m━━━━━━━━━━━━━━━━━━━━\u001b[0m\u001b[37m\u001b[0m \u001b[1m0s\u001b[0m 10ms/step - loss: 0.0094 - mean_absolute_error: 0.0523 - val_loss: 0.0498 - val_mean_absolute_error: 0.1214\n",
      "Epoch 11/30\n",
      "\u001b[1m27/27\u001b[0m \u001b[32m━━━━━━━━━━━━━━━━━━━━\u001b[0m\u001b[37m\u001b[0m \u001b[1m0s\u001b[0m 7ms/step - loss: 0.0072 - mean_absolute_error: 0.0467 - val_loss: 0.0468 - val_mean_absolute_error: 0.1265\n",
      "Epoch 12/30\n",
      "\u001b[1m27/27\u001b[0m \u001b[32m━━━━━━━━━━━━━━━━━━━━\u001b[0m\u001b[37m\u001b[0m \u001b[1m0s\u001b[0m 9ms/step - loss: 0.0089 - mean_absolute_error: 0.0669 - val_loss: 0.0701 - val_mean_absolute_error: 0.2225\n",
      "Epoch 13/30\n",
      "\u001b[1m27/27\u001b[0m \u001b[32m━━━━━━━━━━━━━━━━━━━━\u001b[0m\u001b[37m\u001b[0m \u001b[1m0s\u001b[0m 9ms/step - loss: 0.0174 - mean_absolute_error: 0.1149 - val_loss: 0.1155 - val_mean_absolute_error: 0.2922\n",
      "Epoch 14/30\n",
      "\u001b[1m27/27\u001b[0m \u001b[32m━━━━━━━━━━━━━━━━━━━━\u001b[0m\u001b[37m\u001b[0m \u001b[1m0s\u001b[0m 9ms/step - loss: 0.0303 - mean_absolute_error: 0.1547 - val_loss: 0.1013 - val_mean_absolute_error: 0.2659\n",
      "Epoch 15/30\n",
      "\u001b[1m27/27\u001b[0m \u001b[32m━━━━━━━━━━━━━━━━━━━━\u001b[0m\u001b[37m\u001b[0m \u001b[1m0s\u001b[0m 7ms/step - loss: 0.0532 - mean_absolute_error: 0.1842 - val_loss: 0.2003 - val_mean_absolute_error: 0.3304\n",
      "Epoch 16/30\n",
      "\u001b[1m27/27\u001b[0m \u001b[32m━━━━━━━━━━━━━━━━━━━━\u001b[0m\u001b[37m\u001b[0m \u001b[1m0s\u001b[0m 9ms/step - loss: 0.1513 - mean_absolute_error: 0.3473 - val_loss: 0.7788 - val_mean_absolute_error: 0.8205\n",
      "Epoch 17/30\n",
      "\u001b[1m27/27\u001b[0m \u001b[32m━━━━━━━━━━━━━━━━━━━━\u001b[0m\u001b[37m\u001b[0m \u001b[1m0s\u001b[0m 11ms/step - loss: 0.3943 - mean_absolute_error: 0.5823 - val_loss: 0.9989 - val_mean_absolute_error: 0.9090\n",
      "Epoch 18/30\n",
      "\u001b[1m27/27\u001b[0m \u001b[32m━━━━━━━━━━━━━━━━━━━━\u001b[0m\u001b[37m\u001b[0m \u001b[1m0s\u001b[0m 11ms/step - loss: 0.6473 - mean_absolute_error: 0.7480 - val_loss: 0.2365 - val_mean_absolute_error: 0.3856\n",
      "Epoch 19/30\n",
      "\u001b[1m27/27\u001b[0m \u001b[32m━━━━━━━━━━━━━━━━━━━━\u001b[0m\u001b[37m\u001b[0m \u001b[1m0s\u001b[0m 10ms/step - loss: 0.5742 - mean_absolute_error: 0.6410 - val_loss: 0.6428 - val_mean_absolute_error: 0.7291\n",
      "Epoch 20/30\n",
      "\u001b[1m27/27\u001b[0m \u001b[32m━━━━━━━━━━━━━━━━━━━━\u001b[0m\u001b[37m\u001b[0m \u001b[1m1s\u001b[0m 15ms/step - loss: 0.7015 - mean_absolute_error: 0.7583 - val_loss: 0.0899 - val_mean_absolute_error: 0.2435\n",
      "Epoch 21/30\n",
      "\u001b[1m27/27\u001b[0m \u001b[32m━━━━━━━━━━━━━━━━━━━━\u001b[0m\u001b[37m\u001b[0m \u001b[1m0s\u001b[0m 9ms/step - loss: 0.2095 - mean_absolute_error: 0.3877 - val_loss: 0.0836 - val_mean_absolute_error: 0.2042\n",
      "Epoch 22/30\n",
      "\u001b[1m27/27\u001b[0m \u001b[32m━━━━━━━━━━━━━━━━━━━━\u001b[0m\u001b[37m\u001b[0m \u001b[1m0s\u001b[0m 8ms/step - loss: 0.0821 - mean_absolute_error: 0.2371 - val_loss: 0.0649 - val_mean_absolute_error: 0.1592\n",
      "Epoch 23/30\n",
      "\u001b[1m27/27\u001b[0m \u001b[32m━━━━━━━━━━━━━━━━━━━━\u001b[0m\u001b[37m\u001b[0m \u001b[1m1s\u001b[0m 16ms/step - loss: 0.0230 - mean_absolute_error: 0.1163 - val_loss: 0.0480 - val_mean_absolute_error: 0.1195\n",
      "Epoch 24/30\n",
      "\u001b[1m27/27\u001b[0m \u001b[32m━━━━━━━━━━━━━━━━━━━━\u001b[0m\u001b[37m\u001b[0m \u001b[1m0s\u001b[0m 12ms/step - loss: 0.0048 - mean_absolute_error: 0.0437 - val_loss: 0.0423 - val_mean_absolute_error: 0.1193\n",
      "Epoch 25/30\n",
      "\u001b[1m27/27\u001b[0m \u001b[32m━━━━━━━━━━━━━━━━━━━━\u001b[0m\u001b[37m\u001b[0m \u001b[1m0s\u001b[0m 13ms/step - loss: 0.0040 - mean_absolute_error: 0.0415 - val_loss: 0.0412 - val_mean_absolute_error: 0.1220\n",
      "Epoch 26/30\n",
      "\u001b[1m27/27\u001b[0m \u001b[32m━━━━━━━━━━━━━━━━━━━━\u001b[0m\u001b[37m\u001b[0m \u001b[1m0s\u001b[0m 13ms/step - loss: 0.0037 - mean_absolute_error: 0.0422 - val_loss: 0.0414 - val_mean_absolute_error: 0.1142\n",
      "Epoch 27/30\n",
      "\u001b[1m27/27\u001b[0m \u001b[32m━━━━━━━━━━━━━━━━━━━━\u001b[0m\u001b[37m\u001b[0m \u001b[1m1s\u001b[0m 15ms/step - loss: 0.0025 - mean_absolute_error: 0.0329 - val_loss: 0.0430 - val_mean_absolute_error: 0.1041\n",
      "Epoch 28/30\n",
      "\u001b[1m27/27\u001b[0m \u001b[32m━━━━━━━━━━━━━━━━━━━━\u001b[0m\u001b[37m\u001b[0m \u001b[1m1s\u001b[0m 14ms/step - loss: 0.0018 - mean_absolute_error: 0.0246 - val_loss: 0.0447 - val_mean_absolute_error: 0.1035\n",
      "Epoch 29/30\n",
      "\u001b[1m27/27\u001b[0m \u001b[32m━━━━━━━━━━━━━━━━━━━━\u001b[0m\u001b[37m\u001b[0m \u001b[1m0s\u001b[0m 11ms/step - loss: 0.0015 - mean_absolute_error: 0.0255 - val_loss: 0.0442 - val_mean_absolute_error: 0.0996\n",
      "Epoch 30/30\n",
      "\u001b[1m27/27\u001b[0m \u001b[32m━━━━━━━━━━━━━━━━━━━━\u001b[0m\u001b[37m\u001b[0m \u001b[1m1s\u001b[0m 16ms/step - loss: 0.0012 - mean_absolute_error: 0.0207 - val_loss: 0.0419 - val_mean_absolute_error: 0.0940\n"
     ]
    }
   ],
   "source": [
    "# Step 3: Train the model\n",
    "history = model.fit(\n",
    "    [X_keywords_padded, X_genres_padded,X_avg_rating],  \n",
    "    y_rating,                              # Target: rating_given\n",
    "    batch_size=8,                          # Batch size (small dataset, so small batch size)\n",
    "    epochs=30,                             # Number of epochs\n",
    "    verbose=1,                             # Show training progress\n",
    "    validation_data=([X_val_keywords_padded, X_val_genres_padded,X_val_avg_rating], y_val_rating)  # Validation data\n",
    ")\n"
   ]
  },
  {
   "cell_type": "code",
   "execution_count": 24,
   "metadata": {},
   "outputs": [
    {
     "data": {
      "image/png": "[encoded data removed]",
      "text/plain": [
       "<Figure size 1500x600 with 1 Axes>"
      ]
     },
     "metadata": {},
     "output_type": "display_data"
    }
   ],
   "source": [
    "import matplotlib.pyplot as plt\n",
    "\n",
    "# Step 4: Visualize training and validation MAE\n",
    "fig, ax = plt.subplots(figsize=(15, 6))\n",
    "ax.plot(history.epoch, history.history['val_mean_absolute_error'], label='Validation MAE')\n",
    "ax.plot(history.epoch, history.history['mean_absolute_error'], label='Training MAE')\n",
    "ax.set_xlabel('Epoch')\n",
    "ax.set_ylabel('Mean Absolute Error')\n",
    "ax.set_xlim(left=0, right=history.epoch[-1])\n",
    "baseline_mae = 0.73  # Baseline MAE (replace with the actual baseline you calculated)\n",
    "ax.axhline(baseline_mae, ls='--', label='Baseline', color='#002255', alpha=0.5)\n",
    "ax.grid()\n",
    "fig.legend()\n",
    "plt.show()"
   ]
  },
  {
   "cell_type": "code",
   "execution_count": 25,
   "metadata": {},
   "outputs": [
    {
     "name": "stdout",
     "output_type": "stream",
     "text": [
      "\u001b[1m1/1\u001b[0m \u001b[32m━━━━━━━━━━━━━━━━━━━━\u001b[0m\u001b[37m\u001b[0m \u001b[1m0s\u001b[0m 334ms/step\n",
      "R² score for validation set: 0.9106921390879748\n"
     ]
    },
    {
     "data": {
      "image/png": "[encoded data removed]",
      "text/plain": [
       "<Figure size 1000x600 with 1 Axes>"
      ]
     },
     "metadata": {},
     "output_type": "display_data"
    }
   ],
   "source": [
    "import numpy as np\n",
    "import matplotlib.pyplot as plt\n",
    "from sklearn.metrics import r2_score\n",
    "\n",
    "\n",
    "# Predict ratings for the validation set\n",
    "y_val_pred = (model.predict([X_val_keywords_padded,X_val_genres_padded,X_val_avg_rating]))\n",
    "\n",
    "# Calculate R² score for validation\n",
    "r2_val = r2_score(y_val_rating, y_val_pred)\n",
    "print(f'R² score for validation set: {r2_val}')\n",
    "\n",
    "# Create the scatter plot for validation data\n",
    "plt.figure(figsize=(10, 6))\n",
    "plt.scatter(y_val_rating, y_val_pred, color='blue', alpha=0.6, label='Predicted Ratings')\n",
    "plt.plot([y_val_rating.min(), y_val_rating.max()], \n",
    "         [y_val_rating.min(), y_val_rating.max()], \n",
    "         color='red', linestyle='--', label='Ideal Line')  # Ideal line\n",
    "plt.title('Actual Ratings vs. Predicted Ratings (Validation Set)')\n",
    "plt.xlabel('Actual Ratings')\n",
    "plt.ylabel('Predicted Ratings')\n",
    "plt.xlim(y_val_rating.min(), y_val_rating.max())\n",
    "plt.ylim(y_val_rating.min(), y_val_rating.max())\n",
    "plt.grid()\n",
    "plt.legend()  \n",
    "plt.show()\n"
   ]
  },
  {
   "cell_type": "markdown",
   "metadata": {},
   "source": [
    "**Model Evaluation**:\n",
    "- *r2 score* = 0.91\n",
    "- *mae* = 0.09\n",
    "\n",
    " Our model looks pretty decent. Most of the predictions are very near to the actual rating."
   ]
  },
  {
   "cell_type": "markdown",
   "metadata": {},
   "source": [
    "### Checking movies with a rating difference over 0.5"
   ]
  },
  {
   "cell_type": "code",
   "execution_count": 67,
   "metadata": {},
   "outputs": [
    {
     "data": {
      "text/html": [
       "<div>\n",
       "<style scoped>\n",
       "    .dataframe tbody tr th:only-of-type {\n",
       "        vertical-align: middle;\n",
       "    }\n",
       "\n",
       "    .dataframe tbody tr th {\n",
       "        vertical-align: top;\n",
       "    }\n",
       "\n",
       "    .dataframe thead th {\n",
       "        text-align: right;\n",
       "    }\n",
       "</style>\n",
       "<table border=\"1\" class=\"dataframe\">\n",
       "  <thead>\n",
       "    <tr style=\"text-align: right;\">\n",
       "      <th></th>\n",
       "      <th>Name</th>\n",
       "      <th>Actual Rating</th>\n",
       "      <th>Predicted Rating</th>\n",
       "    </tr>\n",
       "  </thead>\n",
       "  <tbody>\n",
       "    <tr>\n",
       "      <th>13</th>\n",
       "      <td>Dune</td>\n",
       "      <td>4.5</td>\n",
       "      <td>3.662421</td>\n",
       "    </tr>\n",
       "  </tbody>\n",
       "</table>\n",
       "</div>"
      ],
      "text/plain": [
       "    Name  Actual Rating  Predicted Rating\n",
       "13  Dune            4.5          3.662421"
      ]
     },
     "execution_count": 67,
     "metadata": {},
     "output_type": "execute_result"
    }
   ],
   "source": [
    "# Flatten y_val_pred to make it 1-dimensional\n",
    "y_val_pred_flat = y_val_pred.ravel()  # or y_val_pred[:, 0]\n",
    "\n",
    "# Create a DataFrame with actual and predicted ratings side by side\n",
    "df_results = pd.DataFrame({\n",
    "    'Actual Rating': y_val_rating,\n",
    "    'Predicted Rating': y_val_pred_flat  # Use the flattened array\n",
    "})\n",
    "\n",
    "# Display rows with significant error in prediction\n",
    "high_diff=df_results[abs(df_results[\"Actual Rating\"]-df_results[\"Predicted Rating\"])>0.5]\n",
    "\n",
    "\n",
    "(df_val.reset_index(drop=True)\n",
    " .merge(high_diff,left_index=True,right_index=True)\n",
    " [[\"Name\",\"Actual Rating\",\"Predicted Rating\"]])"
   ]
  },
  {
   "cell_type": "markdown",
   "metadata": {},
   "source": [
    "Our model's prediction says i shouldnt have liked Dune as much as i did. But Denis Villenueve outclassed our model, lol!\n",
    "\n",
    "Justifying this prediction:\n",
    "- The essence of Dune is rooted in cinematography, editing and it just has a different vibe? \n",
    "this is something which is not translated in our feature variables.\n",
    "- so it may be fair to say this might be the reason our model predicted a lower rating than the actual rating given by me.\n",
    "\n",
    "- bit of stretch maybe, but hey, we gotta infer what we gotta infer, right?"
   ]
  },
  {
   "cell_type": "code",
   "execution_count": 65,
   "metadata": {},
   "outputs": [],
   "source": [
    "# # Step 6: Save the model\n",
    "# model.save('final_model.keras')\n",
    "\n",
    "# Step 7: Load the model\n",
    "# # from keras.models import load_model\n",
    "# # loaded_model = load_model('movie_rating_model.h5')\n"
   ]
  },
  {
   "cell_type": "code",
   "execution_count": 66,
   "metadata": {},
   "outputs": [],
   "source": [
    "# model.save_weights('final_model.weights.h5')\n"
   ]
  },
  {
   "cell_type": "markdown",
   "metadata": {},
   "source": [
    "let's fetch movie details from tmdb api for predictions!"
   ]
  },
  {
   "cell_type": "code",
   "execution_count": 27,
   "metadata": {},
   "outputs": [],
   "source": [
    "genres_ids=pd.read_pickle(\"genres.pkl\") "
   ]
  },
  {
   "cell_type": "code",
   "execution_count": 55,
   "metadata": {},
   "outputs": [],
   "source": [
    "import requests\n",
    "import numpy as np\n",
    "from keras_preprocessing.sequence import pad_sequences\n",
    "\n",
    "# Dictionary for genre ID to name mapping\n",
    "id_to_name = {genre['id']: genre['name'] for genre in genres_ids['genres']}\n",
    "\n",
    "# Function to fetch details (keywords, genres, avg_rating) using the movie name\n",
    "def fetch_details(movie_name):\n",
    "    movie_url = f\"https://api.themoviedb.org/3/search/movie?query={movie_name}&include_adult=false&language=en-US&page=1\"\n",
    "    headers = {\n",
    "    \"accept\": \"application/json\",\n",
    "    \"Authorization\": \"YOUR_TMDB_API_HERE\"\n",
    "    }\n",
    "\n",
    "    response = requests.get(movie_url, headers=headers).json()[\"results\"][0]\n",
    "    movie_id = response[\"id\"]\n",
    "    title=response[\"title\"]\n",
    "    date=response[\"release_date\"][:4]\n",
    "    avg_rating = response[\"vote_average\"]\n",
    "    genre_ids = response[\"genre_ids\"]\n",
    "    genres = [id_to_name[genre_id] for genre_id in genre_ids]\n",
    "\n",
    "    # Get keywords\n",
    "    keyword_url = f\"https://api.themoviedb.org/3/movie/{movie_id}/keywords\"\n",
    "    keyword_response = requests.get(keyword_url, headers=headers).json()[\"keywords\"]\n",
    "    keywords = [key[\"name\"] for key in keyword_response]\n",
    "\n",
    "    return keywords, genres, avg_rating, movie_id,title,date\n",
    "\n",
    "# Function to encode the inputs and prepare for the model\n",
    "def prepare_input(keywords, genres, avg_rating, max_keywords_length, max_genres_length, keyword_encoder, genre_encoder):\n",
    "    \n",
    "    # Encode keywords with handling for unseen labels\n",
    "    encoded_keywords = []\n",
    "    for kw in keywords:\n",
    "        try:\n",
    "            encoded_keywords.append(keyword_encoder.transform([kw])[0])  # Transform each keyword\n",
    "        except ValueError:\n",
    "            encoded_keywords.append(-1)  # Assign -1 for unseen labels\n",
    "    \n",
    "    # Pad the keywords to the max length\n",
    "    padded_keywords = pad_sequences([encoded_keywords], maxlen=max_keywords_length, padding='post')\n",
    "    \n",
    "    # Encode genres with handling for unseen labels\n",
    "    encoded_genres = []\n",
    "    for genre in genres:\n",
    "        try:\n",
    "            encoded_genres.append(genre_encoder.transform([genre])[0])  # Transform each genre\n",
    "        except ValueError:\n",
    "            encoded_genres.append(-1)  # Assign -1 for unseen labels\n",
    "    \n",
    "    # Pad the genres to the max length\n",
    "    padded_genres = pad_sequences([encoded_genres], maxlen=max_genres_length, padding='post')\n",
    "\n",
    "    avg_rating_input = np.array([avg_rating])  \n",
    "    \n",
    "    return padded_keywords, padded_genres, avg_rating_input"
   ]
  },
  {
   "cell_type": "markdown",
   "metadata": {},
   "source": [
    "I mostly logged english movies, so to check if our model is well generalized, let's predict a movie from a different sample than we've trained on (a *bollywood* movie)"
   ]
  },
  {
   "cell_type": "markdown",
   "metadata": {},
   "source": [
    "### predicting the rating user(me, in this case) would give by taking *movie title* as input"
   ]
  },
  {
   "cell_type": "code",
   "execution_count": 64,
   "metadata": {},
   "outputs": [
    {
     "name": "stdout",
     "output_type": "stream",
     "text": [
      "\u001b[1m1/1\u001b[0m \u001b[32m━━━━━━━━━━━━━━━━━━━━\u001b[0m\u001b[37m\u001b[0m \u001b[1m0s\u001b[0m 50ms/step\n",
      "Predicted rating for 'Andhadhun',2018 (Movie ID: 534780): 4.50\n"
     ]
    }
   ],
   "source": [
    "# Step 1: Define the movie name\n",
    "movie_name = \"andhadhun\"  # Replace with your desired movie name\n",
    "\n",
    "# Step 2: Fetch details using the movie name\n",
    "keywords, genres, avg_rating, movie_id,title,date = fetch_details(movie_name)\n",
    "\n",
    "# Step 3: Prepare input for the model\n",
    "max_keywords_length = 20  # Example max length for keywords\n",
    "max_genres_length = 3     # Example max length for genres\n",
    "\n",
    "# Assume you have trained encoders for keywords and genres\n",
    "padded_keywords, padded_genres, avg_rating_input = prepare_input(\n",
    "    keywords, genres, avg_rating, max_keywords_length, max_genres_length, \n",
    "    keyword_encoder=le_keywords, genre_encoder=le_genres)\n",
    "\n",
    "# Step 4: Make the prediction using the model\n",
    "predicted_rating = model.predict([padded_keywords, padded_genres, avg_rating_input])\n",
    "\n",
    "# Print the predicted rating\n",
    "print(f\"Predicted rating for '{title}',{date} (Movie ID: {movie_id}): {np.ceil(predicted_rating[0][0] * 2) / 2:.2f}\") #taking the ceil since we can only rate in .5 multiples\n"
   ]
  },
  {
   "cell_type": "markdown",
   "metadata": {},
   "source": [
    "yeppp 4.5 is exactly the rating i'd give to Andhadhun!(I have a good take on movies, don't i lol?)\n",
    "\n",
    "our prediction model works, phew!"
   ]
  }
 ],
 "metadata": {
  "kernelspec": {
   "display_name": "Python 3",
   "language": "python",
   "name": "python3"
  },
  "language_info": {
   "codemirror_mode": {
    "name": "ipython",
    "version": 3
   },
   "file_extension": ".py",
   "mimetype": "text/x-python",
   "name": "python",
   "nbconvert_exporter": "python",
   "pygments_lexer": "ipython3",
   "version": "3.10.8"
  }
 },
 "nbformat": 4,
 "nbformat_minor": 2
}
