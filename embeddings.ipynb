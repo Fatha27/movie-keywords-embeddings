{
 "cells": [
  {
   "cell_type": "code",
   "execution_count": 1,
   "metadata": {},
   "outputs": [],
   "source": [
    "import pandas as pd\n",
    "import numpy as np\n",
    "import pickle"
   ]
  },
  {
   "cell_type": "code",
   "execution_count": 2,
   "metadata": {},
   "outputs": [],
   "source": [
    "import numpy as np\n",
    "import pandas as pd\n",
    "from matplotlib import pyplot as plt\n",
    "import tensorflow as tf\n",
    "# from tensorflow import keras\n",
    "import keras\n",
    "from keras import layers\n",
    "import os\n",
    "import random\n",
    "from sklearn.model_selection import train_test_split"
   ]
  },
  {
   "cell_type": "code",
   "execution_count": 3,
   "metadata": {},
   "outputs": [
    {
     "name": "stdout",
     "output_type": "stream",
     "text": [
      "3.5.0\n"
     ]
    }
   ],
   "source": [
    "print(keras.__version__)"
   ]
  },
  {
   "cell_type": "code",
   "execution_count": 4,
   "metadata": {},
   "outputs": [],
   "source": [
    "df=pd.read_pickle(\"dataframe_keywords.pkl\")"
   ]
  },
  {
   "cell_type": "code",
   "execution_count": 5,
   "metadata": {},
   "outputs": [
    {
     "data": {
      "text/html": [
       "<div>\n",
       "<style scoped>\n",
       "    .dataframe tbody tr th:only-of-type {\n",
       "        vertical-align: middle;\n",
       "    }\n",
       "\n",
       "    .dataframe tbody tr th {\n",
       "        vertical-align: top;\n",
       "    }\n",
       "\n",
       "    .dataframe thead th {\n",
       "        text-align: right;\n",
       "    }\n",
       "</style>\n",
       "<table border=\"1\" class=\"dataframe\">\n",
       "  <thead>\n",
       "    <tr style=\"text-align: right;\">\n",
       "      <th></th>\n",
       "      <th>Date_logged</th>\n",
       "      <th>movie_id</th>\n",
       "      <th>Name</th>\n",
       "      <th>Year</th>\n",
       "      <th>overview</th>\n",
       "      <th>genres</th>\n",
       "      <th>keywords</th>\n",
       "      <th>actors</th>\n",
       "      <th>director</th>\n",
       "      <th>average_rating</th>\n",
       "      <th>vote_count</th>\n",
       "      <th>popularity</th>\n",
       "      <th>rating_given</th>\n",
       "    </tr>\n",
       "  </thead>\n",
       "  <tbody>\n",
       "    <tr>\n",
       "      <th>0</th>\n",
       "      <td>2021-10-02</td>\n",
       "      <td>278</td>\n",
       "      <td>The Shawshank Redemption</td>\n",
       "      <td>1994</td>\n",
       "      <td>Imprisoned in the 1940s for the double murder ...</td>\n",
       "      <td>Drama, Crime</td>\n",
       "      <td>prison, friendship, police brutality, corrupti...</td>\n",
       "      <td>Tim Robbins, Morgan Freeman, Bob Gunton, Willi...</td>\n",
       "      <td>Frank Darabont</td>\n",
       "      <td>8.706</td>\n",
       "      <td>26839</td>\n",
       "      <td>150.307</td>\n",
       "      <td>5.0</td>\n",
       "    </tr>\n",
       "    <tr>\n",
       "      <th>1</th>\n",
       "      <td>2021-10-02</td>\n",
       "      <td>489</td>\n",
       "      <td>Good Will Hunting</td>\n",
       "      <td>1997</td>\n",
       "      <td>When professors discover that an aimless janit...</td>\n",
       "      <td>Drama</td>\n",
       "      <td>boston, massachusetts, professor, baseball, ma...</td>\n",
       "      <td>Matt Damon, Robin Williams, Ben Affleck, Stell...</td>\n",
       "      <td>Gus Van Sant</td>\n",
       "      <td>8.158</td>\n",
       "      <td>12188</td>\n",
       "      <td>72.632</td>\n",
       "      <td>5.0</td>\n",
       "    </tr>\n",
       "  </tbody>\n",
       "</table>\n",
       "</div>"
      ],
      "text/plain": [
       "  Date_logged  movie_id                      Name  Year  \\\n",
       "0  2021-10-02       278  The Shawshank Redemption  1994   \n",
       "1  2021-10-02       489         Good Will Hunting  1997   \n",
       "\n",
       "                                            overview        genres  \\\n",
       "0  Imprisoned in the 1940s for the double murder ...  Drama, Crime   \n",
       "1  When professors discover that an aimless janit...         Drama   \n",
       "\n",
       "                                            keywords  \\\n",
       "0  prison, friendship, police brutality, corrupti...   \n",
       "1  boston, massachusetts, professor, baseball, ma...   \n",
       "\n",
       "                                              actors        director  \\\n",
       "0  Tim Robbins, Morgan Freeman, Bob Gunton, Willi...  Frank Darabont   \n",
       "1  Matt Damon, Robin Williams, Ben Affleck, Stell...    Gus Van Sant   \n",
       "\n",
       "   average_rating  vote_count  popularity  rating_given  \n",
       "0           8.706       26839     150.307           5.0  \n",
       "1           8.158       12188      72.632           5.0  "
      ]
     },
     "execution_count": 5,
     "metadata": {},
     "output_type": "execute_result"
    }
   ],
   "source": [
    "df.head(2)"
   ]
  },
  {
   "cell_type": "code",
   "execution_count": 6,
   "metadata": {},
   "outputs": [],
   "source": [
    "df=df[[\"movie_id\",\"Name\",\"keywords\",\"rating_given\"]]"
   ]
  },
  {
   "cell_type": "code",
   "execution_count": 7,
   "metadata": {},
   "outputs": [
    {
     "data": {
      "text/html": [
       "<div>\n",
       "<style scoped>\n",
       "    .dataframe tbody tr th:only-of-type {\n",
       "        vertical-align: middle;\n",
       "    }\n",
       "\n",
       "    .dataframe tbody tr th {\n",
       "        vertical-align: top;\n",
       "    }\n",
       "\n",
       "    .dataframe thead th {\n",
       "        text-align: right;\n",
       "    }\n",
       "</style>\n",
       "<table border=\"1\" class=\"dataframe\">\n",
       "  <thead>\n",
       "    <tr style=\"text-align: right;\">\n",
       "      <th></th>\n",
       "      <th>movie_id</th>\n",
       "      <th>Name</th>\n",
       "      <th>keywords</th>\n",
       "      <th>rating_given</th>\n",
       "    </tr>\n",
       "  </thead>\n",
       "  <tbody>\n",
       "    <tr>\n",
       "      <th>0</th>\n",
       "      <td>278</td>\n",
       "      <td>The Shawshank Redemption</td>\n",
       "      <td>prison, friendship, police brutality, corrupti...</td>\n",
       "      <td>5.0</td>\n",
       "    </tr>\n",
       "    <tr>\n",
       "      <th>1</th>\n",
       "      <td>489</td>\n",
       "      <td>Good Will Hunting</td>\n",
       "      <td>boston, massachusetts, professor, baseball, ma...</td>\n",
       "      <td>5.0</td>\n",
       "    </tr>\n",
       "  </tbody>\n",
       "</table>\n",
       "</div>"
      ],
      "text/plain": [
       "   movie_id                      Name  \\\n",
       "0       278  The Shawshank Redemption   \n",
       "1       489         Good Will Hunting   \n",
       "\n",
       "                                            keywords  rating_given  \n",
       "0  prison, friendship, police brutality, corrupti...           5.0  \n",
       "1  boston, massachusetts, professor, baseball, ma...           5.0  "
      ]
     },
     "execution_count": 7,
     "metadata": {},
     "output_type": "execute_result"
    }
   ],
   "source": [
    "df.head(2)"
   ]
  },
  {
   "cell_type": "code",
   "execution_count": 8,
   "metadata": {},
   "outputs": [],
   "source": [
    "# Convert keywords from a string to a list (if they are stored as comma-separated strings)\n",
    "df['keywords'] = df['keywords'].apply(lambda x: x.split(', '))"
   ]
  },
  {
   "cell_type": "code",
   "execution_count": 9,
   "metadata": {},
   "outputs": [],
   "source": [
    "from sklearn.preprocessing import LabelEncoder\n",
    "\n",
    "# Flatten the list of all keywords across the dataset\n",
    "all_keywords = [keyword for keywords_list in df['keywords'] for keyword in keywords_list]\n",
    "\n",
    "# Create a LabelEncoder and fit it on the unique keywords\n",
    "le = LabelEncoder()\n",
    "le.fit(all_keywords)\n",
    "\n",
    "# Now encode each keyword list into integer IDs\n",
    "df['keywords_encoded'] = df['keywords'].apply(lambda keywords: le.transform(keywords))"
   ]
  },
  {
   "cell_type": "code",
   "execution_count": 10,
   "metadata": {},
   "outputs": [
    {
     "data": {
      "text/html": [
       "<div>\n",
       "<style scoped>\n",
       "    .dataframe tbody tr th:only-of-type {\n",
       "        vertical-align: middle;\n",
       "    }\n",
       "\n",
       "    .dataframe tbody tr th {\n",
       "        vertical-align: top;\n",
       "    }\n",
       "\n",
       "    .dataframe thead th {\n",
       "        text-align: right;\n",
       "    }\n",
       "</style>\n",
       "<table border=\"1\" class=\"dataframe\">\n",
       "  <thead>\n",
       "    <tr style=\"text-align: right;\">\n",
       "      <th></th>\n",
       "      <th>movie_id</th>\n",
       "      <th>Name</th>\n",
       "      <th>keywords</th>\n",
       "      <th>rating_given</th>\n",
       "      <th>keywords_encoded</th>\n",
       "    </tr>\n",
       "  </thead>\n",
       "  <tbody>\n",
       "    <tr>\n",
       "      <th>0</th>\n",
       "      <td>278</td>\n",
       "      <td>The Shawshank Redemption</td>\n",
       "      <td>[prison, friendship, police brutality, corrupt...</td>\n",
       "      <td>5.0</td>\n",
       "      <td>[1330, 715, 1297, 403, 172, 840, 1331, 475, 13...</td>\n",
       "    </tr>\n",
       "    <tr>\n",
       "      <th>1</th>\n",
       "      <td>489</td>\n",
       "      <td>Good Will Hunting</td>\n",
       "      <td>[boston, massachusetts, professor, baseball, m...</td>\n",
       "      <td>5.0</td>\n",
       "      <td>[236, 1057, 1340, 165, 1066, 739, 796, 1023, 7...</td>\n",
       "    </tr>\n",
       "    <tr>\n",
       "      <th>2</th>\n",
       "      <td>284053</td>\n",
       "      <td>Thor: Ragnarok</td>\n",
       "      <td>[superhero, based on comic, sequel, alien plan...</td>\n",
       "      <td>4.0</td>\n",
       "      <td>[1662, 167, 1508, 58, 662, 1196, 40, 549, 1050...</td>\n",
       "    </tr>\n",
       "    <tr>\n",
       "      <th>3</th>\n",
       "      <td>299534</td>\n",
       "      <td>Avengers: Endgame</td>\n",
       "      <td>[superhero, time travel, space travel, time ma...</td>\n",
       "      <td>4.0</td>\n",
       "      <td>[1662, 1748, 1599, 1745, 167, 1508, 55, 1663, ...</td>\n",
       "    </tr>\n",
       "    <tr>\n",
       "      <th>4</th>\n",
       "      <td>155</td>\n",
       "      <td>The Dark Knight</td>\n",
       "      <td>[joker, sadism, chaos, secret identity, crime ...</td>\n",
       "      <td>5.0</td>\n",
       "      <td>[932, 1447, 317, 1490, 428, 1662, 96, 1463, 16...</td>\n",
       "    </tr>\n",
       "  </tbody>\n",
       "</table>\n",
       "</div>"
      ],
      "text/plain": [
       "   movie_id                      Name  \\\n",
       "0       278  The Shawshank Redemption   \n",
       "1       489         Good Will Hunting   \n",
       "2    284053            Thor: Ragnarok   \n",
       "3    299534         Avengers: Endgame   \n",
       "4       155           The Dark Knight   \n",
       "\n",
       "                                            keywords  rating_given  \\\n",
       "0  [prison, friendship, police brutality, corrupt...           5.0   \n",
       "1  [boston, massachusetts, professor, baseball, m...           5.0   \n",
       "2  [superhero, based on comic, sequel, alien plan...           4.0   \n",
       "3  [superhero, time travel, space travel, time ma...           4.0   \n",
       "4  [joker, sadism, chaos, secret identity, crime ...           5.0   \n",
       "\n",
       "                                    keywords_encoded  \n",
       "0  [1330, 715, 1297, 403, 172, 840, 1331, 475, 13...  \n",
       "1  [236, 1057, 1340, 165, 1066, 739, 796, 1023, 7...  \n",
       "2  [1662, 167, 1508, 58, 662, 1196, 40, 549, 1050...  \n",
       "3  [1662, 1748, 1599, 1745, 167, 1508, 55, 1663, ...  \n",
       "4  [932, 1447, 317, 1490, 428, 1662, 96, 1463, 16...  "
      ]
     },
     "execution_count": 10,
     "metadata": {},
     "output_type": "execute_result"
    }
   ],
   "source": [
    "df.head()"
   ]
  },
  {
   "cell_type": "code",
   "execution_count": 11,
   "metadata": {},
   "outputs": [],
   "source": [
    "from keras_preprocessing.sequence import pad_sequences\n",
    "\n",
    "# Define the maximum number of keywords (you can choose a limit)\n",
    "MAX_KEYWORDS = 20\n",
    "\n",
    "# Pad the sequences (post-padding will add zeros after shorter sequences)\n",
    "X_keywords_padded = pad_sequences(df['keywords_encoded'], maxlen=MAX_KEYWORDS, padding='post')\n"
   ]
  },
  {
   "cell_type": "code",
   "execution_count": 12,
   "metadata": {},
   "outputs": [
    {
     "data": {
      "text/html": [
       "<div>\n",
       "<style scoped>\n",
       "    .dataframe tbody tr th:only-of-type {\n",
       "        vertical-align: middle;\n",
       "    }\n",
       "\n",
       "    .dataframe tbody tr th {\n",
       "        vertical-align: top;\n",
       "    }\n",
       "\n",
       "    .dataframe thead th {\n",
       "        text-align: right;\n",
       "    }\n",
       "</style>\n",
       "<table border=\"1\" class=\"dataframe\">\n",
       "  <thead>\n",
       "    <tr style=\"text-align: right;\">\n",
       "      <th></th>\n",
       "      <th>movie_id</th>\n",
       "      <th>Name</th>\n",
       "      <th>keywords</th>\n",
       "      <th>rating_given</th>\n",
       "      <th>keywords_encoded</th>\n",
       "    </tr>\n",
       "  </thead>\n",
       "  <tbody>\n",
       "    <tr>\n",
       "      <th>0</th>\n",
       "      <td>278</td>\n",
       "      <td>The Shawshank Redemption</td>\n",
       "      <td>[prison, friendship, police brutality, corrupt...</td>\n",
       "      <td>5.0</td>\n",
       "      <td>[1330, 715, 1297, 403, 172, 840, 1331, 475, 13...</td>\n",
       "    </tr>\n",
       "    <tr>\n",
       "      <th>1</th>\n",
       "      <td>489</td>\n",
       "      <td>Good Will Hunting</td>\n",
       "      <td>[boston, massachusetts, professor, baseball, m...</td>\n",
       "      <td>5.0</td>\n",
       "      <td>[236, 1057, 1340, 165, 1066, 739, 796, 1023, 7...</td>\n",
       "    </tr>\n",
       "    <tr>\n",
       "      <th>2</th>\n",
       "      <td>284053</td>\n",
       "      <td>Thor: Ragnarok</td>\n",
       "      <td>[superhero, based on comic, sequel, alien plan...</td>\n",
       "      <td>4.0</td>\n",
       "      <td>[1662, 167, 1508, 58, 662, 1196, 40, 549, 1050...</td>\n",
       "    </tr>\n",
       "    <tr>\n",
       "      <th>3</th>\n",
       "      <td>299534</td>\n",
       "      <td>Avengers: Endgame</td>\n",
       "      <td>[superhero, time travel, space travel, time ma...</td>\n",
       "      <td>4.0</td>\n",
       "      <td>[1662, 1748, 1599, 1745, 167, 1508, 55, 1663, ...</td>\n",
       "    </tr>\n",
       "    <tr>\n",
       "      <th>4</th>\n",
       "      <td>155</td>\n",
       "      <td>The Dark Knight</td>\n",
       "      <td>[joker, sadism, chaos, secret identity, crime ...</td>\n",
       "      <td>5.0</td>\n",
       "      <td>[932, 1447, 317, 1490, 428, 1662, 96, 1463, 16...</td>\n",
       "    </tr>\n",
       "  </tbody>\n",
       "</table>\n",
       "</div>"
      ],
      "text/plain": [
       "   movie_id                      Name  \\\n",
       "0       278  The Shawshank Redemption   \n",
       "1       489         Good Will Hunting   \n",
       "2    284053            Thor: Ragnarok   \n",
       "3    299534         Avengers: Endgame   \n",
       "4       155           The Dark Knight   \n",
       "\n",
       "                                            keywords  rating_given  \\\n",
       "0  [prison, friendship, police brutality, corrupt...           5.0   \n",
       "1  [boston, massachusetts, professor, baseball, m...           5.0   \n",
       "2  [superhero, based on comic, sequel, alien plan...           4.0   \n",
       "3  [superhero, time travel, space travel, time ma...           4.0   \n",
       "4  [joker, sadism, chaos, secret identity, crime ...           5.0   \n",
       "\n",
       "                                    keywords_encoded  \n",
       "0  [1330, 715, 1297, 403, 172, 840, 1331, 475, 13...  \n",
       "1  [236, 1057, 1340, 165, 1066, 739, 796, 1023, 7...  \n",
       "2  [1662, 167, 1508, 58, 662, 1196, 40, 549, 1050...  \n",
       "3  [1662, 1748, 1599, 1745, 167, 1508, 55, 1663, ...  \n",
       "4  [932, 1447, 317, 1490, 428, 1662, 96, 1463, 16...  "
      ]
     },
     "execution_count": 12,
     "metadata": {},
     "output_type": "execute_result"
    }
   ],
   "source": [
    "df.head()"
   ]
  },
  {
   "cell_type": "code",
   "execution_count": 13,
   "metadata": {},
   "outputs": [
    {
     "name": "stdout",
     "output_type": "stream",
     "text": [
      "<class 'pandas.core.frame.DataFrame'>\n",
      "Int64Index: 212 entries, 0 to 211\n",
      "Data columns (total 5 columns):\n",
      " #   Column            Non-Null Count  Dtype  \n",
      "---  ------            --------------  -----  \n",
      " 0   movie_id          212 non-null    int64  \n",
      " 1   Name              212 non-null    object \n",
      " 2   keywords          212 non-null    object \n",
      " 3   rating_given      212 non-null    float64\n",
      " 4   keywords_encoded  212 non-null    object \n",
      "dtypes: float64(1), int64(1), object(3)\n",
      "memory usage: 9.9+ KB\n"
     ]
    }
   ],
   "source": [
    "df.info()"
   ]
  },
  {
   "cell_type": "code",
   "execution_count": 14,
   "metadata": {},
   "outputs": [],
   "source": [
    "# Convert movie_id and target (rating_given) to numpy arrays\n",
    "X_movie_id = np.array(df['movie_id'], dtype=np.int32)\n",
    "y_rating = np.array(df['rating_given'], dtype=np.float32)"
   ]
  },
  {
   "cell_type": "code",
   "execution_count": 16,
   "metadata": {},
   "outputs": [],
   "source": [
    "from keras import layers, models\n",
    "# from layers import Flatten, Embedding, Input, Concatenate, Dense\n",
    "# Define hyperparameters\n",
    "max_movie_id = df['movie_id'].max()  # Find the maximum movie ID\n",
    "\n",
    "hidden_units = (32, 16)  # You can adjust these based on your needs\n",
    "movie_embedding_size = 8  # Size of the movie embedding vector\n",
    "keyword_embedding_size = 16  # Size of the keyword embedding vector\n",
    "n_keywords = 1932  # Number of unique keywords (based on your dataset)\n",
    "# Inputs\n",
    "movie_id_input = layers.Input(shape=(1,), name='movie_id')\n",
    "keywords_input = layers.Input(shape=(20,), name='keywords_input')  # 20 is the max length of the padded keyword sequences\n",
    "\n",
    "# Embedding layers\n",
    "movie_embedded = layers.Embedding(input_dim=max_movie_id + 1,\n",
    "                                  output_dim=movie_embedding_size, \n",
    "                                  input_length=1, \n",
    "                                  name='movie_embedding')(movie_id_input)\n",
    "# Embedding layers\n",
    "movie_embedding = layers.Flatten()(movie_embedded)  # Shape: (None, 8)\n",
    "\n",
    "# Embedding for keywords (unique keyword count is 1932)\n",
    "keywords_embedded = layers.Embedding(input_dim=1932, \n",
    "                                     output_dim=keyword_embedding_size, \n",
    "                                     input_length=None, \n",
    "                                     name='keyword_embedding')(keywords_input)\n",
    "keywords_embedding = layers.Flatten()(keywords_embedded)  # Shape: (None, 20*16)\n",
    "\n",
    "# Concatenate\n",
    "concatenated = layers.Concatenate()([movie_embedding, keywords_embedding])  # Shape: (None, 8 + 320)\n",
    "\n",
    "# Add Dense layers (MLP) for prediction\n",
    "out = layers.Dense(32, activation='relu')(concatenated)\n",
    "out = layers.Dense(1, activation='linear')(out)\n",
    "\n",
    "# Add hidden layers\n",
    "for n_hidden in hidden_units:\n",
    "    out = layers.Dense(n_hidden, activation='relu')(out)\n",
    "\n",
    "# Output layer: predicted rating\n",
    "out = layers.Dense(1, activation='linear', name='prediction')(out)"
   ]
  },
  {
   "cell_type": "code",
   "execution_count": 17,
   "metadata": {},
   "outputs": [
    {
     "data": {
      "text/html": [
       "<pre style=\"white-space:pre;overflow-x:auto;line-height:normal;font-family:Menlo,'DejaVu Sans Mono',consolas,'Courier New',monospace\"><span style=\"font-weight: bold\">Model: \"functional\"</span>\n",
       "</pre>\n"
      ],
      "text/plain": [
       "\u001b[1mModel: \"functional\"\u001b[0m\n"
      ]
     },
     "metadata": {},
     "output_type": "display_data"
    },
    {
     "data": {
      "text/html": [
       "<pre style=\"white-space:pre;overflow-x:auto;line-height:normal;font-family:Menlo,'DejaVu Sans Mono',consolas,'Courier New',monospace\">┏━━━━━━━━━━━━━━━━━━━━━┳━━━━━━━━━━━━━━━━━━━┳━━━━━━━━━━━━┳━━━━━━━━━━━━━━━━━━━┓\n",
       "┃<span style=\"font-weight: bold\"> Layer (type)        </span>┃<span style=\"font-weight: bold\"> Output Shape      </span>┃<span style=\"font-weight: bold\">    Param # </span>┃<span style=\"font-weight: bold\"> Connected to      </span>┃\n",
       "┡━━━━━━━━━━━━━━━━━━━━━╇━━━━━━━━━━━━━━━━━━━╇━━━━━━━━━━━━╇━━━━━━━━━━━━━━━━━━━┩\n",
       "│ movie_id            │ (<span style=\"color: #00d7ff; text-decoration-color: #00d7ff\">None</span>, <span style=\"color: #00af00; text-decoration-color: #00af00\">1</span>)         │          <span style=\"color: #00af00; text-decoration-color: #00af00\">0</span> │ -                 │\n",
       "│ (<span style=\"color: #0087ff; text-decoration-color: #0087ff\">InputLayer</span>)        │                   │            │                   │\n",
       "├─────────────────────┼───────────────────┼────────────┼───────────────────┤\n",
       "│ keywords_input      │ (<span style=\"color: #00d7ff; text-decoration-color: #00d7ff\">None</span>, <span style=\"color: #00af00; text-decoration-color: #00af00\">20</span>)        │          <span style=\"color: #00af00; text-decoration-color: #00af00\">0</span> │ -                 │\n",
       "│ (<span style=\"color: #0087ff; text-decoration-color: #0087ff\">InputLayer</span>)        │                   │            │                   │\n",
       "├─────────────────────┼───────────────────┼────────────┼───────────────────┤\n",
       "│ movie_embedding     │ (<span style=\"color: #00d7ff; text-decoration-color: #00d7ff\">None</span>, <span style=\"color: #00af00; text-decoration-color: #00af00\">1</span>, <span style=\"color: #00af00; text-decoration-color: #00af00\">8</span>)      │  <span style=\"color: #00af00; text-decoration-color: #00af00\">9,381,408</span> │ movie_id[<span style=\"color: #00af00; text-decoration-color: #00af00\">0</span>][<span style=\"color: #00af00; text-decoration-color: #00af00\">0</span>]    │\n",
       "│ (<span style=\"color: #0087ff; text-decoration-color: #0087ff\">Embedding</span>)         │                   │            │                   │\n",
       "├─────────────────────┼───────────────────┼────────────┼───────────────────┤\n",
       "│ keyword_embedding   │ (<span style=\"color: #00d7ff; text-decoration-color: #00d7ff\">None</span>, <span style=\"color: #00af00; text-decoration-color: #00af00\">20</span>, <span style=\"color: #00af00; text-decoration-color: #00af00\">16</span>)    │     <span style=\"color: #00af00; text-decoration-color: #00af00\">30,912</span> │ keywords_input[<span style=\"color: #00af00; text-decoration-color: #00af00\">0</span>… │\n",
       "│ (<span style=\"color: #0087ff; text-decoration-color: #0087ff\">Embedding</span>)         │                   │            │                   │\n",
       "├─────────────────────┼───────────────────┼────────────┼───────────────────┤\n",
       "│ flatten_2 (<span style=\"color: #0087ff; text-decoration-color: #0087ff\">Flatten</span>) │ (<span style=\"color: #00d7ff; text-decoration-color: #00d7ff\">None</span>, <span style=\"color: #00af00; text-decoration-color: #00af00\">8</span>)         │          <span style=\"color: #00af00; text-decoration-color: #00af00\">0</span> │ movie_embedding[<span style=\"color: #00af00; text-decoration-color: #00af00\">…</span> │\n",
       "├─────────────────────┼───────────────────┼────────────┼───────────────────┤\n",
       "│ flatten_3 (<span style=\"color: #0087ff; text-decoration-color: #0087ff\">Flatten</span>) │ (<span style=\"color: #00d7ff; text-decoration-color: #00d7ff\">None</span>, <span style=\"color: #00af00; text-decoration-color: #00af00\">320</span>)       │          <span style=\"color: #00af00; text-decoration-color: #00af00\">0</span> │ keyword_embeddin… │\n",
       "├─────────────────────┼───────────────────┼────────────┼───────────────────┤\n",
       "│ concatenate_1       │ (<span style=\"color: #00d7ff; text-decoration-color: #00d7ff\">None</span>, <span style=\"color: #00af00; text-decoration-color: #00af00\">328</span>)       │          <span style=\"color: #00af00; text-decoration-color: #00af00\">0</span> │ flatten_2[<span style=\"color: #00af00; text-decoration-color: #00af00\">0</span>][<span style=\"color: #00af00; text-decoration-color: #00af00\">0</span>],  │\n",
       "│ (<span style=\"color: #0087ff; text-decoration-color: #0087ff\">Concatenate</span>)       │                   │            │ flatten_3[<span style=\"color: #00af00; text-decoration-color: #00af00\">0</span>][<span style=\"color: #00af00; text-decoration-color: #00af00\">0</span>]   │\n",
       "├─────────────────────┼───────────────────┼────────────┼───────────────────┤\n",
       "│ dense_4 (<span style=\"color: #0087ff; text-decoration-color: #0087ff\">Dense</span>)     │ (<span style=\"color: #00d7ff; text-decoration-color: #00d7ff\">None</span>, <span style=\"color: #00af00; text-decoration-color: #00af00\">32</span>)        │     <span style=\"color: #00af00; text-decoration-color: #00af00\">10,528</span> │ concatenate_1[<span style=\"color: #00af00; text-decoration-color: #00af00\">0</span>]… │\n",
       "├─────────────────────┼───────────────────┼────────────┼───────────────────┤\n",
       "│ dense_5 (<span style=\"color: #0087ff; text-decoration-color: #0087ff\">Dense</span>)     │ (<span style=\"color: #00d7ff; text-decoration-color: #00d7ff\">None</span>, <span style=\"color: #00af00; text-decoration-color: #00af00\">1</span>)         │         <span style=\"color: #00af00; text-decoration-color: #00af00\">33</span> │ dense_4[<span style=\"color: #00af00; text-decoration-color: #00af00\">0</span>][<span style=\"color: #00af00; text-decoration-color: #00af00\">0</span>]     │\n",
       "├─────────────────────┼───────────────────┼────────────┼───────────────────┤\n",
       "│ dense_6 (<span style=\"color: #0087ff; text-decoration-color: #0087ff\">Dense</span>)     │ (<span style=\"color: #00d7ff; text-decoration-color: #00d7ff\">None</span>, <span style=\"color: #00af00; text-decoration-color: #00af00\">32</span>)        │         <span style=\"color: #00af00; text-decoration-color: #00af00\">64</span> │ dense_5[<span style=\"color: #00af00; text-decoration-color: #00af00\">0</span>][<span style=\"color: #00af00; text-decoration-color: #00af00\">0</span>]     │\n",
       "├─────────────────────┼───────────────────┼────────────┼───────────────────┤\n",
       "│ dense_7 (<span style=\"color: #0087ff; text-decoration-color: #0087ff\">Dense</span>)     │ (<span style=\"color: #00d7ff; text-decoration-color: #00d7ff\">None</span>, <span style=\"color: #00af00; text-decoration-color: #00af00\">16</span>)        │        <span style=\"color: #00af00; text-decoration-color: #00af00\">528</span> │ dense_6[<span style=\"color: #00af00; text-decoration-color: #00af00\">0</span>][<span style=\"color: #00af00; text-decoration-color: #00af00\">0</span>]     │\n",
       "├─────────────────────┼───────────────────┼────────────┼───────────────────┤\n",
       "│ prediction (<span style=\"color: #0087ff; text-decoration-color: #0087ff\">Dense</span>)  │ (<span style=\"color: #00d7ff; text-decoration-color: #00d7ff\">None</span>, <span style=\"color: #00af00; text-decoration-color: #00af00\">1</span>)         │         <span style=\"color: #00af00; text-decoration-color: #00af00\">17</span> │ dense_7[<span style=\"color: #00af00; text-decoration-color: #00af00\">0</span>][<span style=\"color: #00af00; text-decoration-color: #00af00\">0</span>]     │\n",
       "└─────────────────────┴───────────────────┴────────────┴───────────────────┘\n",
       "</pre>\n"
      ],
      "text/plain": [
       "┏━━━━━━━━━━━━━━━━━━━━━┳━━━━━━━━━━━━━━━━━━━┳━━━━━━━━━━━━┳━━━━━━━━━━━━━━━━━━━┓\n",
       "┃\u001b[1m \u001b[0m\u001b[1mLayer (type)       \u001b[0m\u001b[1m \u001b[0m┃\u001b[1m \u001b[0m\u001b[1mOutput Shape     \u001b[0m\u001b[1m \u001b[0m┃\u001b[1m \u001b[0m\u001b[1m   Param #\u001b[0m\u001b[1m \u001b[0m┃\u001b[1m \u001b[0m\u001b[1mConnected to     \u001b[0m\u001b[1m \u001b[0m┃\n",
       "┡━━━━━━━━━━━━━━━━━━━━━╇━━━━━━━━━━━━━━━━━━━╇━━━━━━━━━━━━╇━━━━━━━━━━━━━━━━━━━┩\n",
       "│ movie_id            │ (\u001b[38;5;45mNone\u001b[0m, \u001b[38;5;34m1\u001b[0m)         │          \u001b[38;5;34m0\u001b[0m │ -                 │\n",
       "│ (\u001b[38;5;33mInputLayer\u001b[0m)        │                   │            │                   │\n",
       "├─────────────────────┼───────────────────┼────────────┼───────────────────┤\n",
       "│ keywords_input      │ (\u001b[38;5;45mNone\u001b[0m, \u001b[38;5;34m20\u001b[0m)        │          \u001b[38;5;34m0\u001b[0m │ -                 │\n",
       "│ (\u001b[38;5;33mInputLayer\u001b[0m)        │                   │            │                   │\n",
       "├─────────────────────┼───────────────────┼────────────┼───────────────────┤\n",
       "│ movie_embedding     │ (\u001b[38;5;45mNone\u001b[0m, \u001b[38;5;34m1\u001b[0m, \u001b[38;5;34m8\u001b[0m)      │  \u001b[38;5;34m9,381,408\u001b[0m │ movie_id[\u001b[38;5;34m0\u001b[0m][\u001b[38;5;34m0\u001b[0m]    │\n",
       "│ (\u001b[38;5;33mEmbedding\u001b[0m)         │                   │            │                   │\n",
       "├─────────────────────┼───────────────────┼────────────┼───────────────────┤\n",
       "│ keyword_embedding   │ (\u001b[38;5;45mNone\u001b[0m, \u001b[38;5;34m20\u001b[0m, \u001b[38;5;34m16\u001b[0m)    │     \u001b[38;5;34m30,912\u001b[0m │ keywords_input[\u001b[38;5;34m0\u001b[0m… │\n",
       "│ (\u001b[38;5;33mEmbedding\u001b[0m)         │                   │            │                   │\n",
       "├─────────────────────┼───────────────────┼────────────┼───────────────────┤\n",
       "│ flatten_2 (\u001b[38;5;33mFlatten\u001b[0m) │ (\u001b[38;5;45mNone\u001b[0m, \u001b[38;5;34m8\u001b[0m)         │          \u001b[38;5;34m0\u001b[0m │ movie_embedding[\u001b[38;5;34m…\u001b[0m │\n",
       "├─────────────────────┼───────────────────┼────────────┼───────────────────┤\n",
       "│ flatten_3 (\u001b[38;5;33mFlatten\u001b[0m) │ (\u001b[38;5;45mNone\u001b[0m, \u001b[38;5;34m320\u001b[0m)       │          \u001b[38;5;34m0\u001b[0m │ keyword_embeddin… │\n",
       "├─────────────────────┼───────────────────┼────────────┼───────────────────┤\n",
       "│ concatenate_1       │ (\u001b[38;5;45mNone\u001b[0m, \u001b[38;5;34m328\u001b[0m)       │          \u001b[38;5;34m0\u001b[0m │ flatten_2[\u001b[38;5;34m0\u001b[0m][\u001b[38;5;34m0\u001b[0m],  │\n",
       "│ (\u001b[38;5;33mConcatenate\u001b[0m)       │                   │            │ flatten_3[\u001b[38;5;34m0\u001b[0m][\u001b[38;5;34m0\u001b[0m]   │\n",
       "├─────────────────────┼───────────────────┼────────────┼───────────────────┤\n",
       "│ dense_4 (\u001b[38;5;33mDense\u001b[0m)     │ (\u001b[38;5;45mNone\u001b[0m, \u001b[38;5;34m32\u001b[0m)        │     \u001b[38;5;34m10,528\u001b[0m │ concatenate_1[\u001b[38;5;34m0\u001b[0m]… │\n",
       "├─────────────────────┼───────────────────┼────────────┼───────────────────┤\n",
       "│ dense_5 (\u001b[38;5;33mDense\u001b[0m)     │ (\u001b[38;5;45mNone\u001b[0m, \u001b[38;5;34m1\u001b[0m)         │         \u001b[38;5;34m33\u001b[0m │ dense_4[\u001b[38;5;34m0\u001b[0m][\u001b[38;5;34m0\u001b[0m]     │\n",
       "├─────────────────────┼───────────────────┼────────────┼───────────────────┤\n",
       "│ dense_6 (\u001b[38;5;33mDense\u001b[0m)     │ (\u001b[38;5;45mNone\u001b[0m, \u001b[38;5;34m32\u001b[0m)        │         \u001b[38;5;34m64\u001b[0m │ dense_5[\u001b[38;5;34m0\u001b[0m][\u001b[38;5;34m0\u001b[0m]     │\n",
       "├─────────────────────┼───────────────────┼────────────┼───────────────────┤\n",
       "│ dense_7 (\u001b[38;5;33mDense\u001b[0m)     │ (\u001b[38;5;45mNone\u001b[0m, \u001b[38;5;34m16\u001b[0m)        │        \u001b[38;5;34m528\u001b[0m │ dense_6[\u001b[38;5;34m0\u001b[0m][\u001b[38;5;34m0\u001b[0m]     │\n",
       "├─────────────────────┼───────────────────┼────────────┼───────────────────┤\n",
       "│ prediction (\u001b[38;5;33mDense\u001b[0m)  │ (\u001b[38;5;45mNone\u001b[0m, \u001b[38;5;34m1\u001b[0m)         │         \u001b[38;5;34m17\u001b[0m │ dense_7[\u001b[38;5;34m0\u001b[0m][\u001b[38;5;34m0\u001b[0m]     │\n",
       "└─────────────────────┴───────────────────┴────────────┴───────────────────┘\n"
      ]
     },
     "metadata": {},
     "output_type": "display_data"
    },
    {
     "data": {
      "text/html": [
       "<pre style=\"white-space:pre;overflow-x:auto;line-height:normal;font-family:Menlo,'DejaVu Sans Mono',consolas,'Courier New',monospace\"><span style=\"font-weight: bold\"> Total params: </span><span style=\"color: #00af00; text-decoration-color: #00af00\">9,423,490</span> (35.95 MB)\n",
       "</pre>\n"
      ],
      "text/plain": [
       "\u001b[1m Total params: \u001b[0m\u001b[38;5;34m9,423,490\u001b[0m (35.95 MB)\n"
      ]
     },
     "metadata": {},
     "output_type": "display_data"
    },
    {
     "data": {
      "text/html": [
       "<pre style=\"white-space:pre;overflow-x:auto;line-height:normal;font-family:Menlo,'DejaVu Sans Mono',consolas,'Courier New',monospace\"><span style=\"font-weight: bold\"> Trainable params: </span><span style=\"color: #00af00; text-decoration-color: #00af00\">9,423,490</span> (35.95 MB)\n",
       "</pre>\n"
      ],
      "text/plain": [
       "\u001b[1m Trainable params: \u001b[0m\u001b[38;5;34m9,423,490\u001b[0m (35.95 MB)\n"
      ]
     },
     "metadata": {},
     "output_type": "display_data"
    },
    {
     "data": {
      "text/html": [
       "<pre style=\"white-space:pre;overflow-x:auto;line-height:normal;font-family:Menlo,'DejaVu Sans Mono',consolas,'Courier New',monospace\"><span style=\"font-weight: bold\"> Non-trainable params: </span><span style=\"color: #00af00; text-decoration-color: #00af00\">0</span> (0.00 B)\n",
       "</pre>\n"
      ],
      "text/plain": [
       "\u001b[1m Non-trainable params: \u001b[0m\u001b[38;5;34m0\u001b[0m (0.00 B)\n"
      ]
     },
     "metadata": {},
     "output_type": "display_data"
    }
   ],
   "source": [
    "# Define the model\n",
    "model = models.Model(inputs=[movie_id_input, keywords_input], outputs=out)\n",
    "model.compile(optimizer='adam', loss='mean_squared_error', metrics=['mean_absolute_error'])\n",
    "\n",
    "# Check the model summary\n",
    "model.summary()"
   ]
  },
  {
   "cell_type": "code",
   "execution_count": 18,
   "metadata": {},
   "outputs": [],
   "source": [
    "# Step 3: Split the dataset into training and validation sets\n",
    "from sklearn.model_selection import train_test_split\n",
    "\n",
    "# Assuming df contains the entire dataset (movies and ratings)\n",
    "df_train, df_val = train_test_split(df, test_size=0.1, random_state=42)  # 90% train, 10% validation\n",
    "\n",
    "# Prepare validation data (use the same padding and conversion as for the training set)\n",
    "X_val_keywords_padded = pad_sequences(df_val['keywords_encoded'], maxlen=MAX_KEYWORDS, padding='post', truncating='post')\n",
    "X_val_movie_id = np.array(df_val['movie_id'], dtype=np.int32)\n",
    "y_val_rating = np.array(df_val['rating_given'], dtype=np.float32)\n"
   ]
  },
  {
   "cell_type": "code",
   "execution_count": 19,
   "metadata": {},
   "outputs": [
    {
     "name": "stdout",
     "output_type": "stream",
     "text": [
      "Epoch 1/20\n",
      "\u001b[1m22/22\u001b[0m \u001b[32m━━━━━━━━━━━━━━━━━━━━\u001b[0m\u001b[37m\u001b[0m \u001b[1m6s\u001b[0m 150ms/step - loss: 13.6854 - mean_absolute_error: 3.6370 - val_loss: 11.3853 - val_mean_absolute_error: 3.2968\n",
      "Epoch 2/20\n",
      "\u001b[1m22/22\u001b[0m \u001b[32m━━━━━━━━━━━━━━━━━━━━\u001b[0m\u001b[37m\u001b[0m \u001b[1m3s\u001b[0m 125ms/step - loss: 10.3730 - mean_absolute_error: 3.1173 - val_loss: 4.8395 - val_mean_absolute_error: 1.8648\n",
      "Epoch 3/20\n",
      "\u001b[1m22/22\u001b[0m \u001b[32m━━━━━━━━━━━━━━━━━━━━\u001b[0m\u001b[37m\u001b[0m \u001b[1m3s\u001b[0m 121ms/step - loss: 4.4656 - mean_absolute_error: 1.8056 - val_loss: 2.8336 - val_mean_absolute_error: 1.3596\n",
      "Epoch 4/20\n",
      "\u001b[1m22/22\u001b[0m \u001b[32m━━━━━━━━━━━━━━━━━━━━\u001b[0m\u001b[37m\u001b[0m \u001b[1m3s\u001b[0m 121ms/step - loss: 2.1930 - mean_absolute_error: 1.2221 - val_loss: 1.3735 - val_mean_absolute_error: 0.9275\n",
      "Epoch 5/20\n",
      "\u001b[1m22/22\u001b[0m \u001b[32m━━━━━━━━━━━━━━━━━━━━\u001b[0m\u001b[37m\u001b[0m \u001b[1m3s\u001b[0m 124ms/step - loss: 0.5895 - mean_absolute_error: 0.6180 - val_loss: 0.6625 - val_mean_absolute_error: 0.5875\n",
      "Epoch 6/20\n",
      "\u001b[1m22/22\u001b[0m \u001b[32m━━━━━━━━━━━━━━━━━━━━\u001b[0m\u001b[37m\u001b[0m \u001b[1m3s\u001b[0m 121ms/step - loss: 0.2469 - mean_absolute_error: 0.3881 - val_loss: 0.5304 - val_mean_absolute_error: 0.4672\n",
      "Epoch 7/20\n",
      "\u001b[1m22/22\u001b[0m \u001b[32m━━━━━━━━━━━━━━━━━━━━\u001b[0m\u001b[37m\u001b[0m \u001b[1m3s\u001b[0m 124ms/step - loss: 0.0965 - mean_absolute_error: 0.2298 - val_loss: 0.5573 - val_mean_absolute_error: 0.4471\n",
      "Epoch 8/20\n",
      "\u001b[1m22/22\u001b[0m \u001b[32m━━━━━━━━━━━━━━━━━━━━\u001b[0m\u001b[37m\u001b[0m \u001b[1m3s\u001b[0m 121ms/step - loss: 0.0375 - mean_absolute_error: 0.1278 - val_loss: 0.4895 - val_mean_absolute_error: 0.4191\n",
      "Epoch 9/20\n",
      "\u001b[1m22/22\u001b[0m \u001b[32m━━━━━━━━━━━━━━━━━━━━\u001b[0m\u001b[37m\u001b[0m \u001b[1m3s\u001b[0m 120ms/step - loss: 0.0259 - mean_absolute_error: 0.1023 - val_loss: 0.4944 - val_mean_absolute_error: 0.4003\n",
      "Epoch 10/20\n",
      "\u001b[1m22/22\u001b[0m \u001b[32m━━━━━━━━━━━━━━━━━━━━\u001b[0m\u001b[37m\u001b[0m \u001b[1m3s\u001b[0m 124ms/step - loss: 0.0188 - mean_absolute_error: 0.1043 - val_loss: 0.5402 - val_mean_absolute_error: 0.4417\n",
      "Epoch 11/20\n",
      "\u001b[1m22/22\u001b[0m \u001b[32m━━━━━━━━━━━━━━━━━━━━\u001b[0m\u001b[37m\u001b[0m \u001b[1m3s\u001b[0m 121ms/step - loss: 0.0261 - mean_absolute_error: 0.1257 - val_loss: 0.4871 - val_mean_absolute_error: 0.3972\n",
      "Epoch 12/20\n",
      "\u001b[1m22/22\u001b[0m \u001b[32m━━━━━━━━━━━━━━━━━━━━\u001b[0m\u001b[37m\u001b[0m \u001b[1m3s\u001b[0m 123ms/step - loss: 0.0124 - mean_absolute_error: 0.0733 - val_loss: 0.5024 - val_mean_absolute_error: 0.3664\n",
      "Epoch 13/20\n",
      "\u001b[1m22/22\u001b[0m \u001b[32m━━━━━━━━━━━━━━━━━━━━\u001b[0m\u001b[37m\u001b[0m \u001b[1m3s\u001b[0m 127ms/step - loss: 0.0057 - mean_absolute_error: 0.0472 - val_loss: 0.4877 - val_mean_absolute_error: 0.3534\n",
      "Epoch 14/20\n",
      "\u001b[1m22/22\u001b[0m \u001b[32m━━━━━━━━━━━━━━━━━━━━\u001b[0m\u001b[37m\u001b[0m \u001b[1m3s\u001b[0m 131ms/step - loss: 0.0102 - mean_absolute_error: 0.0679 - val_loss: 0.5171 - val_mean_absolute_error: 0.3801\n",
      "Epoch 15/20\n",
      "\u001b[1m22/22\u001b[0m \u001b[32m━━━━━━━━━━━━━━━━━━━━\u001b[0m\u001b[37m\u001b[0m \u001b[1m3s\u001b[0m 123ms/step - loss: 0.0061 - mean_absolute_error: 0.0537 - val_loss: 0.5129 - val_mean_absolute_error: 0.3725\n",
      "Epoch 16/20\n",
      "\u001b[1m22/22\u001b[0m \u001b[32m━━━━━━━━━━━━━━━━━━━━\u001b[0m\u001b[37m\u001b[0m \u001b[1m3s\u001b[0m 133ms/step - loss: 0.0052 - mean_absolute_error: 0.0514 - val_loss: 0.4941 - val_mean_absolute_error: 0.3471\n",
      "Epoch 17/20\n",
      "\u001b[1m22/22\u001b[0m \u001b[32m━━━━━━━━━━━━━━━━━━━━\u001b[0m\u001b[37m\u001b[0m \u001b[1m3s\u001b[0m 137ms/step - loss: 0.0039 - mean_absolute_error: 0.0424 - val_loss: 0.4930 - val_mean_absolute_error: 0.3437\n",
      "Epoch 18/20\n",
      "\u001b[1m22/22\u001b[0m \u001b[32m━━━━━━━━━━━━━━━━━━━━\u001b[0m\u001b[37m\u001b[0m \u001b[1m3s\u001b[0m 124ms/step - loss: 0.0014 - mean_absolute_error: 0.0245 - val_loss: 0.4965 - val_mean_absolute_error: 0.3313\n",
      "Epoch 19/20\n",
      "\u001b[1m22/22\u001b[0m \u001b[32m━━━━━━━━━━━━━━━━━━━━\u001b[0m\u001b[37m\u001b[0m \u001b[1m3s\u001b[0m 121ms/step - loss: 9.5459e-04 - mean_absolute_error: 0.0166 - val_loss: 0.4995 - val_mean_absolute_error: 0.3269\n",
      "Epoch 20/20\n",
      "\u001b[1m22/22\u001b[0m \u001b[32m━━━━━━━━━━━━━━━━━━━━\u001b[0m\u001b[37m\u001b[0m \u001b[1m3s\u001b[0m 122ms/step - loss: 8.1570e-04 - mean_absolute_error: 0.0154 - val_loss: 0.4991 - val_mean_absolute_error: 0.3273\n"
     ]
    }
   ],
   "source": [
    "# Step 4: Train the model\n",
    "history = model.fit(\n",
    "    [X_movie_id, X_keywords_padded],  # Training inputs: movie_id and padded keywords\n",
    "    y_rating,                         # Target: rating_given\n",
    "    batch_size=10,                    # Batch size (small dataset, so small batch size)\n",
    "    epochs=20,                        # Number of epochs\n",
    "    verbose=1,                        # Show training progress\n",
    "    validation_data=([X_val_movie_id, X_val_keywords_padded], y_val_rating)  # Validation data\n",
    ")"
   ]
  },
  {
   "cell_type": "code",
   "execution_count": null,
   "metadata": {},
   "outputs": [],
   "source": []
  },
  {
   "cell_type": "code",
   "execution_count": 20,
   "metadata": {},
   "outputs": [
    {
     "data": {
      "image/png": "[encoded data removed]",
      "text/plain": [
       "<Figure size 1500x600 with 1 Axes>"
      ]
     },
     "metadata": {},
     "output_type": "display_data"
    }
   ],
   "source": [
    "import matplotlib.pyplot as plt\n",
    "\n",
    "# Step 5: Visualize training and validation MAE\n",
    "fig, ax = plt.subplots(figsize=(15, 6))\n",
    "ax.plot(history.epoch, history.history['val_mean_absolute_error'], label='Validation MAE')\n",
    "ax.plot(history.epoch, history.history['mean_absolute_error'], label='Training MAE')\n",
    "ax.set_xlabel('Epoch')\n",
    "ax.set_ylabel('Mean Absolute Error')\n",
    "ax.set_xlim(left=0, right=history.epoch[-1])\n",
    "baseline_mae = 0.73  # Baseline MAE (replace with the actual baseline you calculated)\n",
    "ax.axhline(baseline_mae, ls='--', label='Baseline', color='#002255', alpha=0.5)\n",
    "ax.grid()\n",
    "fig.legend()\n",
    "plt.show()\n"
   ]
  },
  {
   "cell_type": "code",
   "execution_count": 28,
   "metadata": {},
   "outputs": [],
   "source": [
    "# Step 6: Save the model\n",
    "model.save('movie_rating_model.keras')\n",
    "\n",
    "# # Step 7: Load the model\n",
    "# from keras.models import load_model\n",
    "# loaded_model = load_model('movie_rating_model.h5')\n"
   ]
  },
  {
   "cell_type": "code",
   "execution_count": 26,
   "metadata": {},
   "outputs": [],
   "source": [
    "model.save_weights('movie_rating_embeddings.weights.h5')\n"
   ]
  },
  {
   "cell_type": "code",
   "execution_count": 51,
   "metadata": {},
   "outputs": [],
   "source": [
    "import numpy as np\n",
    "from keras_preprocessing.sequence import pad_sequences\n",
    "\n",
    "# Function to encode the keywords and prepare input\n",
    "def prepare_input(movie_id, keywords, max_keywords_length, keyword_encoder):\n",
    "    # Encode movie_id\n",
    "    encoded_movie_id = np.array([movie_id])  # Convert to numpy array\n",
    "\n",
    "    # Encode keywords with handling for unseen labels\n",
    "    encoded_keywords = []\n",
    "    for kw in keywords:\n",
    "        try:\n",
    "            encoded_keywords.append(keyword_encoder.transform([kw])[0])  # Transform each keyword\n",
    "        except ValueError:\n",
    "            encoded_keywords.append(-1)  # Assign -1 or a default value for unseen labels\n",
    "    \n",
    "    # Pad the keywords to the max length\n",
    "    padded_keywords = pad_sequences([encoded_keywords], maxlen=max_keywords_length, padding='post')\n",
    "\n",
    "    return encoded_movie_id, padded_keywords\n",
    "\n",
    "# Example Input\n",
    "movie_id = 313369  # Replace with your desired movie ID\n",
    "keywords = [\"dancing\", \"jazz\", \"dance\", \"traffic jam\", \"ambition\", \"musical\", \"casting\", \"coffee shop\", \"jazz club\", \"hollywood\", \"los angeles, california\", \"pianist\", \"pier\", \"audition\", \"planetarium\", \"aspiring actor\", \"movie set\", \"sunset\", \"one woman show\", \"pool party\", \"griffith observatory\",\n",
    " \"romantic\", \"cheerful\"]\n",
    "\n",
    "\n",
    "max_keywords_length = 20  # Replace with your max length used during training\n",
    "\n",
    "encoded_movie_id, padded_keywords = prepare_input(movie_id, keywords, max_keywords_length, le)\n"
   ]
  },
  {
   "cell_type": "code",
   "execution_count": 52,
   "metadata": {},
   "outputs": [
    {
     "name": "stdout",
     "output_type": "stream",
     "text": [
      "\u001b[1m1/1\u001b[0m \u001b[32m━━━━━━━━━━━━━━━━━━━━\u001b[0m\u001b[37m\u001b[0m \u001b[1m0s\u001b[0m 26ms/step\n",
      "Predicted rating for movie ID 313369 with keywords ['dancing', 'jazz', 'dance', 'traffic jam', 'ambition', 'musical', 'casting', 'coffee shop', 'jazz club', 'hollywood', 'los angeles, california', 'pianist', 'pier', 'audition', 'planetarium', 'aspiring actor', 'movie set', 'sunset', 'one woman show', 'pool party', 'griffith observatory', 'romantic', 'cheerful']:\n",
      " 4.50\n"
     ]
    }
   ],
   "source": [
    "# Make the prediction\n",
    "predicted_rating = model.predict([encoded_movie_id, padded_keywords])\n",
    "\n",
    "# Print the predicted rating\n",
    "print(f\"Predicted rating for movie ID {movie_id} with keywords {keywords}:\\n {np.round(predicted_rating[0][0]*2)/2:.2f}\")\n"
   ]
  },
  {
   "cell_type": "code",
   "execution_count": null,
   "metadata": {},
   "outputs": [],
   "source": []
  }
 ],
 "metadata": {
  "kernelspec": {
   "display_name": "Python 3",
   "language": "python",
   "name": "python3"
  },
  "language_info": {
   "codemirror_mode": {
    "name": "ipython",
    "version": 3
   },
   "file_extension": ".py",
   "mimetype": "text/x-python",
   "name": "python",
   "nbconvert_exporter": "python",
   "pygments_lexer": "ipython3",
   "version": "3.10.8"
  }
 },
 "nbformat": 4,
 "nbformat_minor": 2
}
